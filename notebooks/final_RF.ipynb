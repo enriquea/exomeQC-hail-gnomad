{
 "cells": [
  {
   "cell_type": "code",
   "execution_count": 1,
   "metadata": {},
   "outputs": [
    {
     "name": "stderr",
     "output_type": "stream",
     "text": [
      "pip-installed Hail requires additional configuration options in Spark referring\n",
      "  to the path to the Hail Python module directory HAIL_DIR,\n",
      "  e.g. /path/to/python/site-packages/hail:\n",
      "    spark.jars=HAIL_DIR/hail-all-spark.jar\n",
      "    spark.driver.extraClassPath=HAIL_DIR/hail-all-spark.jar\n",
      "    spark.executor.extraClassPath=./hail-all-spark.jarRunning on Apache Spark version 2.4.5\n",
      "SparkUI available at http://spark-master:4040\n",
      "Welcome to\n",
      "     __  __     <>__\n",
      "    / /_/ /__  __/ /\n",
      "   / __  / _ `/ / /\n",
      "  /_/ /_/\\_,_/_/_/   version 0.2.41-b8144dba46e6\n",
      "LOGGING: writing to /home/ubuntu/data/tmp/scripts/sanger_gnomad_hail_qc/notebooks/hail-20201012-1600-0.2.41-b8144dba46e6.log\n"
     ]
    },
    {
     "data": {
      "text/html": [
       "\n",
       "    <div class=\"bk-root\">\n",
       "        <a href=\"https://bokeh.pydata.org\" target=\"_blank\" class=\"bk-logo bk-logo-small bk-logo-notebook\"></a>\n",
       "        <span id=\"1001\">Loading BokehJS ...</span>\n",
       "    </div>"
      ]
     },
     "metadata": {},
     "output_type": "display_data"
    },
    {
     "data": {
      "application/javascript": [
       "\n",
       "(function(root) {\n",
       "  function now() {\n",
       "    return new Date();\n",
       "  }\n",
       "\n",
       "  var force = true;\n",
       "\n",
       "  if (typeof root._bokeh_onload_callbacks === \"undefined\" || force === true) {\n",
       "    root._bokeh_onload_callbacks = [];\n",
       "    root._bokeh_is_loading = undefined;\n",
       "  }\n",
       "\n",
       "  var JS_MIME_TYPE = 'application/javascript';\n",
       "  var HTML_MIME_TYPE = 'text/html';\n",
       "  var EXEC_MIME_TYPE = 'application/vnd.bokehjs_exec.v0+json';\n",
       "  var CLASS_NAME = 'output_bokeh rendered_html';\n",
       "\n",
       "  /**\n",
       "   * Render data to the DOM node\n",
       "   */\n",
       "  function render(props, node) {\n",
       "    var script = document.createElement(\"script\");\n",
       "    node.appendChild(script);\n",
       "  }\n",
       "\n",
       "  /**\n",
       "   * Handle when an output is cleared or removed\n",
       "   */\n",
       "  function handleClearOutput(event, handle) {\n",
       "    var cell = handle.cell;\n",
       "\n",
       "    var id = cell.output_area._bokeh_element_id;\n",
       "    var server_id = cell.output_area._bokeh_server_id;\n",
       "    // Clean up Bokeh references\n",
       "    if (id != null && id in Bokeh.index) {\n",
       "      Bokeh.index[id].model.document.clear();\n",
       "      delete Bokeh.index[id];\n",
       "    }\n",
       "\n",
       "    if (server_id !== undefined) {\n",
       "      // Clean up Bokeh references\n",
       "      var cmd = \"from bokeh.io.state import curstate; print(curstate().uuid_to_server['\" + server_id + \"'].get_sessions()[0].document.roots[0]._id)\";\n",
       "      cell.notebook.kernel.execute(cmd, {\n",
       "        iopub: {\n",
       "          output: function(msg) {\n",
       "            var id = msg.content.text.trim();\n",
       "            if (id in Bokeh.index) {\n",
       "              Bokeh.index[id].model.document.clear();\n",
       "              delete Bokeh.index[id];\n",
       "            }\n",
       "          }\n",
       "        }\n",
       "      });\n",
       "      // Destroy server and session\n",
       "      var cmd = \"import bokeh.io.notebook as ion; ion.destroy_server('\" + server_id + \"')\";\n",
       "      cell.notebook.kernel.execute(cmd);\n",
       "    }\n",
       "  }\n",
       "\n",
       "  /**\n",
       "   * Handle when a new output is added\n",
       "   */\n",
       "  function handleAddOutput(event, handle) {\n",
       "    var output_area = handle.output_area;\n",
       "    var output = handle.output;\n",
       "\n",
       "    // limit handleAddOutput to display_data with EXEC_MIME_TYPE content only\n",
       "    if ((output.output_type != \"display_data\") || (!output.data.hasOwnProperty(EXEC_MIME_TYPE))) {\n",
       "      return\n",
       "    }\n",
       "\n",
       "    var toinsert = output_area.element.find(\".\" + CLASS_NAME.split(' ')[0]);\n",
       "\n",
       "    if (output.metadata[EXEC_MIME_TYPE][\"id\"] !== undefined) {\n",
       "      toinsert[toinsert.length - 1].firstChild.textContent = output.data[JS_MIME_TYPE];\n",
       "      // store reference to embed id on output_area\n",
       "      output_area._bokeh_element_id = output.metadata[EXEC_MIME_TYPE][\"id\"];\n",
       "    }\n",
       "    if (output.metadata[EXEC_MIME_TYPE][\"server_id\"] !== undefined) {\n",
       "      var bk_div = document.createElement(\"div\");\n",
       "      bk_div.innerHTML = output.data[HTML_MIME_TYPE];\n",
       "      var script_attrs = bk_div.children[0].attributes;\n",
       "      for (var i = 0; i < script_attrs.length; i++) {\n",
       "        toinsert[toinsert.length - 1].firstChild.setAttribute(script_attrs[i].name, script_attrs[i].value);\n",
       "      }\n",
       "      // store reference to server id on output_area\n",
       "      output_area._bokeh_server_id = output.metadata[EXEC_MIME_TYPE][\"server_id\"];\n",
       "    }\n",
       "  }\n",
       "\n",
       "  function register_renderer(events, OutputArea) {\n",
       "\n",
       "    function append_mime(data, metadata, element) {\n",
       "      // create a DOM node to render to\n",
       "      var toinsert = this.create_output_subarea(\n",
       "        metadata,\n",
       "        CLASS_NAME,\n",
       "        EXEC_MIME_TYPE\n",
       "      );\n",
       "      this.keyboard_manager.register_events(toinsert);\n",
       "      // Render to node\n",
       "      var props = {data: data, metadata: metadata[EXEC_MIME_TYPE]};\n",
       "      render(props, toinsert[toinsert.length - 1]);\n",
       "      element.append(toinsert);\n",
       "      return toinsert\n",
       "    }\n",
       "\n",
       "    /* Handle when an output is cleared or removed */\n",
       "    events.on('clear_output.CodeCell', handleClearOutput);\n",
       "    events.on('delete.Cell', handleClearOutput);\n",
       "\n",
       "    /* Handle when a new output is added */\n",
       "    events.on('output_added.OutputArea', handleAddOutput);\n",
       "\n",
       "    /**\n",
       "     * Register the mime type and append_mime function with output_area\n",
       "     */\n",
       "    OutputArea.prototype.register_mime_type(EXEC_MIME_TYPE, append_mime, {\n",
       "      /* Is output safe? */\n",
       "      safe: true,\n",
       "      /* Index of renderer in `output_area.display_order` */\n",
       "      index: 0\n",
       "    });\n",
       "  }\n",
       "\n",
       "  // register the mime type if in Jupyter Notebook environment and previously unregistered\n",
       "  if (root.Jupyter !== undefined) {\n",
       "    var events = require('base/js/events');\n",
       "    var OutputArea = require('notebook/js/outputarea').OutputArea;\n",
       "\n",
       "    if (OutputArea.prototype.mime_types().indexOf(EXEC_MIME_TYPE) == -1) {\n",
       "      register_renderer(events, OutputArea);\n",
       "    }\n",
       "  }\n",
       "\n",
       "  \n",
       "  if (typeof (root._bokeh_timeout) === \"undefined\" || force === true) {\n",
       "    root._bokeh_timeout = Date.now() + 5000;\n",
       "    root._bokeh_failed_load = false;\n",
       "  }\n",
       "\n",
       "  var NB_LOAD_WARNING = {'data': {'text/html':\n",
       "     \"<div style='background-color: #fdd'>\\n\"+\n",
       "     \"<p>\\n\"+\n",
       "     \"BokehJS does not appear to have successfully loaded. If loading BokehJS from CDN, this \\n\"+\n",
       "     \"may be due to a slow or bad network connection. Possible fixes:\\n\"+\n",
       "     \"</p>\\n\"+\n",
       "     \"<ul>\\n\"+\n",
       "     \"<li>re-rerun `output_notebook()` to attempt to load from CDN again, or</li>\\n\"+\n",
       "     \"<li>use INLINE resources instead, as so:</li>\\n\"+\n",
       "     \"</ul>\\n\"+\n",
       "     \"<code>\\n\"+\n",
       "     \"from bokeh.resources import INLINE\\n\"+\n",
       "     \"output_notebook(resources=INLINE)\\n\"+\n",
       "     \"</code>\\n\"+\n",
       "     \"</div>\"}};\n",
       "\n",
       "  function display_loaded() {\n",
       "    var el = document.getElementById(\"1001\");\n",
       "    if (el != null) {\n",
       "      el.textContent = \"BokehJS is loading...\";\n",
       "    }\n",
       "    if (root.Bokeh !== undefined) {\n",
       "      if (el != null) {\n",
       "        el.textContent = \"BokehJS \" + root.Bokeh.version + \" successfully loaded.\";\n",
       "      }\n",
       "    } else if (Date.now() < root._bokeh_timeout) {\n",
       "      setTimeout(display_loaded, 100)\n",
       "    }\n",
       "  }\n",
       "\n",
       "\n",
       "  function run_callbacks() {\n",
       "    try {\n",
       "      root._bokeh_onload_callbacks.forEach(function(callback) {\n",
       "        if (callback != null)\n",
       "          callback();\n",
       "      });\n",
       "    } finally {\n",
       "      delete root._bokeh_onload_callbacks\n",
       "    }\n",
       "    console.debug(\"Bokeh: all callbacks have finished\");\n",
       "  }\n",
       "\n",
       "  function load_libs(css_urls, js_urls, callback) {\n",
       "    if (css_urls == null) css_urls = [];\n",
       "    if (js_urls == null) js_urls = [];\n",
       "\n",
       "    root._bokeh_onload_callbacks.push(callback);\n",
       "    if (root._bokeh_is_loading > 0) {\n",
       "      console.debug(\"Bokeh: BokehJS is being loaded, scheduling callback at\", now());\n",
       "      return null;\n",
       "    }\n",
       "    if (js_urls == null || js_urls.length === 0) {\n",
       "      run_callbacks();\n",
       "      return null;\n",
       "    }\n",
       "    console.debug(\"Bokeh: BokehJS not loaded, scheduling load and callback at\", now());\n",
       "    root._bokeh_is_loading = css_urls.length + js_urls.length;\n",
       "\n",
       "    function on_load() {\n",
       "      root._bokeh_is_loading--;\n",
       "      if (root._bokeh_is_loading === 0) {\n",
       "        console.debug(\"Bokeh: all BokehJS libraries/stylesheets loaded\");\n",
       "        run_callbacks()\n",
       "      }\n",
       "    }\n",
       "\n",
       "    function on_error() {\n",
       "      console.error(\"failed to load \" + url);\n",
       "    }\n",
       "\n",
       "    for (var i = 0; i < css_urls.length; i++) {\n",
       "      var url = css_urls[i];\n",
       "      const element = document.createElement(\"link\");\n",
       "      element.onload = on_load;\n",
       "      element.onerror = on_error;\n",
       "      element.rel = \"stylesheet\";\n",
       "      element.type = \"text/css\";\n",
       "      element.href = url;\n",
       "      console.debug(\"Bokeh: injecting link tag for BokehJS stylesheet: \", url);\n",
       "      document.body.appendChild(element);\n",
       "    }\n",
       "\n",
       "    for (var i = 0; i < js_urls.length; i++) {\n",
       "      var url = js_urls[i];\n",
       "      var element = document.createElement('script');\n",
       "      element.onload = on_load;\n",
       "      element.onerror = on_error;\n",
       "      element.async = false;\n",
       "      element.src = url;\n",
       "      console.debug(\"Bokeh: injecting script tag for BokehJS library: \", url);\n",
       "      document.head.appendChild(element);\n",
       "    }\n",
       "  };var element = document.getElementById(\"1001\");\n",
       "  if (element == null) {\n",
       "    console.error(\"Bokeh: ERROR: autoload.js configured with elementid '1001' but no matching script tag was found. \")\n",
       "    return false;\n",
       "  }\n",
       "\n",
       "  function inject_raw_css(css) {\n",
       "    const element = document.createElement(\"style\");\n",
       "    element.appendChild(document.createTextNode(css));\n",
       "    document.body.appendChild(element);\n",
       "  }\n",
       "\n",
       "  var js_urls = [\"https://cdn.pydata.org/bokeh/release/bokeh-1.2.0.min.js\", \"https://cdn.pydata.org/bokeh/release/bokeh-widgets-1.2.0.min.js\", \"https://cdn.pydata.org/bokeh/release/bokeh-tables-1.2.0.min.js\", \"https://cdn.pydata.org/bokeh/release/bokeh-gl-1.2.0.min.js\"];\n",
       "  var css_urls = [\"https://cdn.pydata.org/bokeh/release/bokeh-1.2.0.min.css\", \"https://cdn.pydata.org/bokeh/release/bokeh-widgets-1.2.0.min.css\", \"https://cdn.pydata.org/bokeh/release/bokeh-tables-1.2.0.min.css\"];\n",
       "\n",
       "  var inline_js = [\n",
       "    function(Bokeh) {\n",
       "      Bokeh.set_log_level(\"info\");\n",
       "    },\n",
       "    \n",
       "    function(Bokeh) {\n",
       "      \n",
       "    },\n",
       "    function(Bokeh) {} // ensure no trailing comma for IE\n",
       "  ];\n",
       "\n",
       "  function run_inline_js() {\n",
       "    \n",
       "    if ((root.Bokeh !== undefined) || (force === true)) {\n",
       "      for (var i = 0; i < inline_js.length; i++) {\n",
       "        inline_js[i].call(root, root.Bokeh);\n",
       "      }if (force === true) {\n",
       "        display_loaded();\n",
       "      }} else if (Date.now() < root._bokeh_timeout) {\n",
       "      setTimeout(run_inline_js, 100);\n",
       "    } else if (!root._bokeh_failed_load) {\n",
       "      console.log(\"Bokeh: BokehJS failed to load within specified timeout.\");\n",
       "      root._bokeh_failed_load = true;\n",
       "    } else if (force !== true) {\n",
       "      var cell = $(document.getElementById(\"1001\")).parents('.cell').data().cell;\n",
       "      cell.output_area.append_execute_result(NB_LOAD_WARNING)\n",
       "    }\n",
       "\n",
       "  }\n",
       "\n",
       "  if (root._bokeh_is_loading === 0) {\n",
       "    console.debug(\"Bokeh: BokehJS loaded, going straight to plotting\");\n",
       "    run_inline_js();\n",
       "  } else {\n",
       "    load_libs(css_urls, js_urls, function() {\n",
       "      console.debug(\"Bokeh: BokehJS plotting callback run at\", now());\n",
       "      run_inline_js();\n",
       "    });\n",
       "  }\n",
       "}(window));"
      ],
      "application/vnd.bokehjs_load.v0+json": "\n(function(root) {\n  function now() {\n    return new Date();\n  }\n\n  var force = true;\n\n  if (typeof root._bokeh_onload_callbacks === \"undefined\" || force === true) {\n    root._bokeh_onload_callbacks = [];\n    root._bokeh_is_loading = undefined;\n  }\n\n  \n\n  \n  if (typeof (root._bokeh_timeout) === \"undefined\" || force === true) {\n    root._bokeh_timeout = Date.now() + 5000;\n    root._bokeh_failed_load = false;\n  }\n\n  var NB_LOAD_WARNING = {'data': {'text/html':\n     \"<div style='background-color: #fdd'>\\n\"+\n     \"<p>\\n\"+\n     \"BokehJS does not appear to have successfully loaded. If loading BokehJS from CDN, this \\n\"+\n     \"may be due to a slow or bad network connection. Possible fixes:\\n\"+\n     \"</p>\\n\"+\n     \"<ul>\\n\"+\n     \"<li>re-rerun `output_notebook()` to attempt to load from CDN again, or</li>\\n\"+\n     \"<li>use INLINE resources instead, as so:</li>\\n\"+\n     \"</ul>\\n\"+\n     \"<code>\\n\"+\n     \"from bokeh.resources import INLINE\\n\"+\n     \"output_notebook(resources=INLINE)\\n\"+\n     \"</code>\\n\"+\n     \"</div>\"}};\n\n  function display_loaded() {\n    var el = document.getElementById(\"1001\");\n    if (el != null) {\n      el.textContent = \"BokehJS is loading...\";\n    }\n    if (root.Bokeh !== undefined) {\n      if (el != null) {\n        el.textContent = \"BokehJS \" + root.Bokeh.version + \" successfully loaded.\";\n      }\n    } else if (Date.now() < root._bokeh_timeout) {\n      setTimeout(display_loaded, 100)\n    }\n  }\n\n\n  function run_callbacks() {\n    try {\n      root._bokeh_onload_callbacks.forEach(function(callback) {\n        if (callback != null)\n          callback();\n      });\n    } finally {\n      delete root._bokeh_onload_callbacks\n    }\n    console.debug(\"Bokeh: all callbacks have finished\");\n  }\n\n  function load_libs(css_urls, js_urls, callback) {\n    if (css_urls == null) css_urls = [];\n    if (js_urls == null) js_urls = [];\n\n    root._bokeh_onload_callbacks.push(callback);\n    if (root._bokeh_is_loading > 0) {\n      console.debug(\"Bokeh: BokehJS is being loaded, scheduling callback at\", now());\n      return null;\n    }\n    if (js_urls == null || js_urls.length === 0) {\n      run_callbacks();\n      return null;\n    }\n    console.debug(\"Bokeh: BokehJS not loaded, scheduling load and callback at\", now());\n    root._bokeh_is_loading = css_urls.length + js_urls.length;\n\n    function on_load() {\n      root._bokeh_is_loading--;\n      if (root._bokeh_is_loading === 0) {\n        console.debug(\"Bokeh: all BokehJS libraries/stylesheets loaded\");\n        run_callbacks()\n      }\n    }\n\n    function on_error() {\n      console.error(\"failed to load \" + url);\n    }\n\n    for (var i = 0; i < css_urls.length; i++) {\n      var url = css_urls[i];\n      const element = document.createElement(\"link\");\n      element.onload = on_load;\n      element.onerror = on_error;\n      element.rel = \"stylesheet\";\n      element.type = \"text/css\";\n      element.href = url;\n      console.debug(\"Bokeh: injecting link tag for BokehJS stylesheet: \", url);\n      document.body.appendChild(element);\n    }\n\n    for (var i = 0; i < js_urls.length; i++) {\n      var url = js_urls[i];\n      var element = document.createElement('script');\n      element.onload = on_load;\n      element.onerror = on_error;\n      element.async = false;\n      element.src = url;\n      console.debug(\"Bokeh: injecting script tag for BokehJS library: \", url);\n      document.head.appendChild(element);\n    }\n  };var element = document.getElementById(\"1001\");\n  if (element == null) {\n    console.error(\"Bokeh: ERROR: autoload.js configured with elementid '1001' but no matching script tag was found. \")\n    return false;\n  }\n\n  function inject_raw_css(css) {\n    const element = document.createElement(\"style\");\n    element.appendChild(document.createTextNode(css));\n    document.body.appendChild(element);\n  }\n\n  var js_urls = [\"https://cdn.pydata.org/bokeh/release/bokeh-1.2.0.min.js\", \"https://cdn.pydata.org/bokeh/release/bokeh-widgets-1.2.0.min.js\", \"https://cdn.pydata.org/bokeh/release/bokeh-tables-1.2.0.min.js\", \"https://cdn.pydata.org/bokeh/release/bokeh-gl-1.2.0.min.js\"];\n  var css_urls = [\"https://cdn.pydata.org/bokeh/release/bokeh-1.2.0.min.css\", \"https://cdn.pydata.org/bokeh/release/bokeh-widgets-1.2.0.min.css\", \"https://cdn.pydata.org/bokeh/release/bokeh-tables-1.2.0.min.css\"];\n\n  var inline_js = [\n    function(Bokeh) {\n      Bokeh.set_log_level(\"info\");\n    },\n    \n    function(Bokeh) {\n      \n    },\n    function(Bokeh) {} // ensure no trailing comma for IE\n  ];\n\n  function run_inline_js() {\n    \n    if ((root.Bokeh !== undefined) || (force === true)) {\n      for (var i = 0; i < inline_js.length; i++) {\n        inline_js[i].call(root, root.Bokeh);\n      }if (force === true) {\n        display_loaded();\n      }} else if (Date.now() < root._bokeh_timeout) {\n      setTimeout(run_inline_js, 100);\n    } else if (!root._bokeh_failed_load) {\n      console.log(\"Bokeh: BokehJS failed to load within specified timeout.\");\n      root._bokeh_failed_load = true;\n    } else if (force !== true) {\n      var cell = $(document.getElementById(\"1001\")).parents('.cell').data().cell;\n      cell.output_area.append_execute_result(NB_LOAD_WARNING)\n    }\n\n  }\n\n  if (root._bokeh_is_loading === 0) {\n    console.debug(\"Bokeh: BokehJS loaded, going straight to plotting\");\n    run_inline_js();\n  } else {\n    load_libs(css_urls, js_urls, function() {\n      console.debug(\"Bokeh: BokehJS plotting callback run at\", now());\n      run_inline_js();\n    });\n  }\n}(window));"
     },
     "metadata": {},
     "output_type": "display_data"
    }
   ],
   "source": [
    "import os\n",
    "import hail as hl\n",
    "import pyspark\n",
    "import bokeh\n",
    "import logging\n",
    "import random\n",
    "import pandas as pd\n",
    "import numpy as np\n",
    "from scipy import stats\n",
    "import pickle \n",
    "from matplotlib import pyplot as plt\n",
    "from typing import Any, Counter, List, Optional, Tuple, Union\n",
    "from hail.plot import show, output_notebook\n",
    "tmp_dir = \"hdfs://spark-master:9820/\"\n",
    "temp_dir = \"file:///home/ubuntu/data/tmp\"\n",
    "plot_dir = \"/home/ubuntu/data/tmp\"\n",
    "\n",
    "sc = pyspark.SparkContext()\n",
    "hadoop_config = sc._jsc.hadoopConfiguration()\n",
    "hadoop_config.set(\"fs.s3a.access.key\", \"8YY584J59H7Q6AVKHSU8\")\n",
    "hadoop_config.set(\"fs.s3a.secret.key\", \"P8vePa7JUvxKXX2me9ti1cGujgYWMoimAwx4mMlM\")\n",
    "hadoop_config.set(\"fs.gs.impl\", \"com.google.cloud.hadoop.fs.gcs.GoogleHadoopFileSystem\")\n",
    "hadoop_config.set(\"fs.AbstractFileSystem.gs.impl\", \"com.google.cloud.hadoop.fs.gcs.GoogleHadoopFS\")\n",
    "hl.init(sc=sc, tmp_dir=tmp_dir, default_reference='GRCh38')\n",
    "output_notebook()\n",
    "logging.basicConfig(format=\"%(levelname)s (%(name)s %(lineno)s): %(message)s\")\n",
    "logger = logging.getLogger(__name__)\n",
    "logger.setLevel(logging.INFO)"
   ]
  },
  {
   "cell_type": "code",
   "execution_count": null,
   "metadata": {},
   "outputs": [],
   "source": []
  },
  {
   "cell_type": "code",
   "execution_count": 2,
   "metadata": {},
   "outputs": [],
   "source": [
    "ht= hl.read_table(f'{temp_dir}/ddd-elgh-ukbb/variant_qc/models/aa7a0685/rf_final.ht')"
   ]
  },
  {
   "cell_type": "code",
   "execution_count": 3,
   "metadata": {},
   "outputs": [
    {
     "name": "stdout",
     "output_type": "stream",
     "text": [
      "----------------------------------------\n",
      "Global fields:\n",
      "    'feature_medians': dict<tuple (\n",
      "        str\n",
      "    ), struct {\n",
      "        a_index: int32, \n",
      "        InbreedingCoeff: float64, \n",
      "        n_alt_alleles: int32\n",
      "    }> \n",
      "    'variants_by_strata': dict<tuple (\n",
      "        str\n",
      "    ), int64> \n",
      "    'features_importance': dict<str, float64> \n",
      "    'features': array<str> \n",
      "    'test_results': array<struct {\n",
      "        rf_prediction: str, \n",
      "        rf_label: str, \n",
      "        n: int32\n",
      "    }> \n",
      "    'rf_hash': str \n",
      "    'rf_snv_cutoff': struct {\n",
      "        min_score: float64\n",
      "    } \n",
      "    'rf_indel_cutoff': struct {\n",
      "        min_score: float64\n",
      "    } \n",
      "----------------------------------------\n",
      "Row fields:\n",
      "    'locus': locus<GRCh38> \n",
      "    'alleles': array<str> \n",
      "    'a_index': int32 \n",
      "    'was_split': bool \n",
      "    'InbreedingCoeff': float64 \n",
      "    'variant_type': str \n",
      "    'allele_type': str \n",
      "    'n_alt_alleles': int32 \n",
      "    'was_mixed': bool \n",
      "    'has_star': bool \n",
      "    'AS_QD': array<float64> \n",
      "    'AS_MQRankSum': array<float64> \n",
      "    'AS_SOR': array<float64> \n",
      "    'AS_ReadPosRankSum': array<float64> \n",
      "    'hapmap': bool \n",
      "    'omni': bool \n",
      "    'mills': bool \n",
      "    'kgp_phase1_hc': bool \n",
      "    'transmitted_singleton': bool \n",
      "    'fp': bool \n",
      "    'rf_train': bool \n",
      "    'rf_label': str \n",
      "    'rf_test': bool \n",
      "    'rf_probability': float64 \n",
      "    'rf_prediction': str \n",
      "    'ac_raw': int32 \n",
      "    'ac': int32 \n",
      "    'filters': set<str> \n",
      "    'rf_positive_label': bool \n",
      "    'rf_negative_label': bool \n",
      "----------------------------------------\n",
      "Key: ['locus', 'alleles']\n",
      "----------------------------------------\n"
     ]
    }
   ],
   "source": [
    "ht.describe()"
   ]
  },
  {
   "cell_type": "code",
   "execution_count": 6,
   "metadata": {},
   "outputs": [
    {
     "data": {
      "text/html": [
       "<table><thead style=\"font-weight: bold;\"><tr><td>locus</td><td>alleles</td><td>a_index</td><td>was_split</td><td>InbreedingCoeff</td><td>variant_type</td><td>allele_type</td><td>n_alt_alleles</td><td>was_mixed</td><td>has_star</td><td>AS_QD</td><td>AS_MQRankSum</td><td>AS_SOR</td><td>AS_ReadPosRankSum</td><td>hapmap</td><td>omni</td><td>mills</td><td>kgp_phase1_hc</td><td>transmitted_singleton</td><td>fp</td><td>rf_train</td><td>rf_label</td><td>rf_test</td><td>rf_probability</td><td>rf_prediction</td><td>ac_raw</td><td>ac</td><td>filters</td><td>rf_positive_label</td><td>rf_negative_label</td></tr>\n",
       "<tr><td>locus&lt;GRCh38&gt;</td><td>array&lt;str&gt;</td><td>int32</td><td>bool</td><td>float64</td><td>str</td><td>str</td><td>int32</td><td>bool</td><td>bool</td><td>array&lt;float64&gt;</td><td>array&lt;float64&gt;</td><td>array&lt;float64&gt;</td><td>array&lt;float64&gt;</td><td>bool</td><td>bool</td><td>bool</td><td>bool</td><td>bool</td><td>bool</td><td>bool</td><td>str</td><td>bool</td><td>float64</td><td>str</td><td>int32</td><td>int32</td><td>set&lt;str&gt;</td><td>bool</td><td>bool</td></tr>\n",
       "</thead><tbody><tr><td>chr1:13024</td><td>[&quot;G&quot;,&quot;A&quot;]</td><td>1</td><td>false</td><td>-1.47e-01</td><td>&quot;snv&quot;</td><td>&quot;snv&quot;</td><td>1</td><td>false</td><td>false</td><td>[3.10e+01]</td><td>NA</td><td>NA</td><td>NA</td><td>NA</td><td>NA</td><td>NA</td><td>NA</td><td>NA</td><td>true</td><td>true</td><td>&quot;FP&quot;</td><td>false</td><td>3.16e-01</td><td>&quot;FP&quot;</td><td>1</td><td>1</td><td>{&quot;AC0&quot;,&quot;RF&quot;}</td><td>false</td><td>true</td></tr>\n",
       "<tr><td>chr1:13087</td><td>[&quot;A&quot;,&quot;G&quot;]</td><td>1</td><td>false</td><td>-1.26e-01</td><td>&quot;snv&quot;</td><td>&quot;snv&quot;</td><td>1</td><td>false</td><td>false</td><td>[7.23e+00]</td><td>NA</td><td>NA</td><td>NA</td><td>NA</td><td>NA</td><td>NA</td><td>NA</td><td>NA</td><td>false</td><td>NA</td><td>NA</td><td>false</td><td>3.17e-01</td><td>&quot;FP&quot;</td><td>1</td><td>1</td><td>{&quot;RF&quot;}</td><td>false</td><td>false</td></tr>\n",
       "<tr><td>chr1:13176</td><td>[&quot;G&quot;,&quot;T&quot;]</td><td>1</td><td>false</td><td>-1.20e-01</td><td>&quot;snv&quot;</td><td>&quot;snv&quot;</td><td>1</td><td>false</td><td>false</td><td>[1.12e+01]</td><td>NA</td><td>NA</td><td>NA</td><td>NA</td><td>NA</td><td>NA</td><td>NA</td><td>NA</td><td>true</td><td>true</td><td>&quot;FP&quot;</td><td>false</td><td>3.17e-01</td><td>&quot;FP&quot;</td><td>1</td><td>1</td><td>{&quot;AC0&quot;,&quot;RF&quot;}</td><td>false</td><td>true</td></tr>\n",
       "<tr><td>chr1:13216</td><td>[&quot;C&quot;,&quot;G&quot;]</td><td>1</td><td>false</td><td>-8.65e-02</td><td>&quot;snv&quot;</td><td>&quot;snv&quot;</td><td>1</td><td>false</td><td>false</td><td>[1.07e+01]</td><td>NA</td><td>NA</td><td>NA</td><td>NA</td><td>NA</td><td>NA</td><td>NA</td><td>NA</td><td>true</td><td>true</td><td>&quot;FP&quot;</td><td>false</td><td>3.51e-01</td><td>&quot;FP&quot;</td><td>1</td><td>1</td><td>{&quot;AC0&quot;,&quot;RF&quot;}</td><td>false</td><td>true</td></tr>\n",
       "<tr><td>chr1:13248</td><td>[&quot;C&quot;,&quot;G&quot;]</td><td>1</td><td>false</td><td>-8.23e-02</td><td>&quot;snv&quot;</td><td>&quot;snv&quot;</td><td>1</td><td>false</td><td>false</td><td>[8.93e+00]</td><td>NA</td><td>NA</td><td>NA</td><td>NA</td><td>NA</td><td>NA</td><td>NA</td><td>NA</td><td>true</td><td>true</td><td>&quot;FP&quot;</td><td>false</td><td>3.70e-01</td><td>&quot;FP&quot;</td><td>1</td><td>1</td><td>{&quot;RF&quot;}</td><td>false</td><td>true</td></tr>\n",
       "<tr><td>chr1:13255</td><td>[&quot;C&quot;,&quot;T&quot;]</td><td>1</td><td>false</td><td>-8.85e-02</td><td>&quot;snv&quot;</td><td>&quot;snv&quot;</td><td>1</td><td>false</td><td>false</td><td>[1.65e+00]</td><td>NA</td><td>NA</td><td>NA</td><td>NA</td><td>NA</td><td>NA</td><td>NA</td><td>NA</td><td>true</td><td>true</td><td>&quot;FP&quot;</td><td>false</td><td>3.51e-01</td><td>&quot;FP&quot;</td><td>1</td><td>1</td><td>{&quot;RF&quot;}</td><td>false</td><td>true</td></tr>\n",
       "<tr><td>chr1:13273</td><td>[&quot;G&quot;,&quot;C&quot;]</td><td>1</td><td>false</td><td>2.23e-01</td><td>&quot;snv&quot;</td><td>&quot;snv&quot;</td><td>1</td><td>false</td><td>false</td><td>[1.60e+01]</td><td>NA</td><td>NA</td><td>NA</td><td>NA</td><td>NA</td><td>NA</td><td>NA</td><td>NA</td><td>true</td><td>true</td><td>&quot;FP&quot;</td><td>false</td><td>6.49e-01</td><td>&quot;TP&quot;</td><td>1</td><td>1</td><td>{&quot;RF&quot;}</td><td>false</td><td>true</td></tr>\n",
       "<tr><td>chr1:13279</td><td>[&quot;C&quot;,&quot;A&quot;]</td><td>1</td><td>false</td><td>-6.36e-02</td><td>&quot;snv&quot;</td><td>&quot;snv&quot;</td><td>1</td><td>false</td><td>false</td><td>[3.15e+00]</td><td>NA</td><td>NA</td><td>NA</td><td>NA</td><td>NA</td><td>NA</td><td>NA</td><td>NA</td><td>true</td><td>true</td><td>&quot;FP&quot;</td><td>false</td><td>3.76e-01</td><td>&quot;FP&quot;</td><td>1</td><td>1</td><td>{&quot;AC0&quot;,&quot;RF&quot;}</td><td>false</td><td>true</td></tr>\n",
       "<tr><td>chr1:13281</td><td>[&quot;C&quot;,&quot;G&quot;]</td><td>1</td><td>false</td><td>-5.97e-02</td><td>&quot;snv&quot;</td><td>&quot;snv&quot;</td><td>1</td><td>false</td><td>false</td><td>[4.50e+00]</td><td>NA</td><td>NA</td><td>NA</td><td>NA</td><td>NA</td><td>NA</td><td>NA</td><td>NA</td><td>true</td><td>true</td><td>&quot;FP&quot;</td><td>false</td><td>3.76e-01</td><td>&quot;FP&quot;</td><td>1</td><td>1</td><td>{&quot;AC0&quot;,&quot;RF&quot;}</td><td>false</td><td>true</td></tr>\n",
       "<tr><td>chr1:13284</td><td>[&quot;G&quot;,&quot;A&quot;]</td><td>1</td><td>false</td><td>-5.75e-02</td><td>&quot;snv&quot;</td><td>&quot;snv&quot;</td><td>1</td><td>false</td><td>false</td><td>[6.55e+00]</td><td>NA</td><td>NA</td><td>NA</td><td>NA</td><td>NA</td><td>NA</td><td>NA</td><td>NA</td><td>true</td><td>true</td><td>&quot;FP&quot;</td><td>false</td><td>3.76e-01</td><td>&quot;FP&quot;</td><td>1</td><td>1</td><td>{&quot;RF&quot;}</td><td>false</td><td>true</td></tr>\n",
       "</tbody></table><p style=\"background: #fdd; padding: 0.4em;\">showing top 10 rows</p>\n"
      ],
      "text/plain": [
       "+---------------+------------+---------+-----------+-----------------+\n",
       "| locus         | alleles    | a_index | was_split | InbreedingCoeff |\n",
       "+---------------+------------+---------+-----------+-----------------+\n",
       "| locus<GRCh38> | array<str> |   int32 |      bool |         float64 |\n",
       "+---------------+------------+---------+-----------+-----------------+\n",
       "| chr1:13024    | [\"G\",\"A\"]  |       1 |     false |       -1.47e-01 |\n",
       "| chr1:13087    | [\"A\",\"G\"]  |       1 |     false |       -1.26e-01 |\n",
       "| chr1:13176    | [\"G\",\"T\"]  |       1 |     false |       -1.20e-01 |\n",
       "| chr1:13216    | [\"C\",\"G\"]  |       1 |     false |       -8.65e-02 |\n",
       "| chr1:13248    | [\"C\",\"G\"]  |       1 |     false |       -8.23e-02 |\n",
       "| chr1:13255    | [\"C\",\"T\"]  |       1 |     false |       -8.85e-02 |\n",
       "| chr1:13273    | [\"G\",\"C\"]  |       1 |     false |        2.23e-01 |\n",
       "| chr1:13279    | [\"C\",\"A\"]  |       1 |     false |       -6.36e-02 |\n",
       "| chr1:13281    | [\"C\",\"G\"]  |       1 |     false |       -5.97e-02 |\n",
       "| chr1:13284    | [\"G\",\"A\"]  |       1 |     false |       -5.75e-02 |\n",
       "+---------------+------------+---------+-----------+-----------------+\n",
       "\n",
       "+--------------+-------------+---------------+-----------+----------+\n",
       "| variant_type | allele_type | n_alt_alleles | was_mixed | has_star |\n",
       "+--------------+-------------+---------------+-----------+----------+\n",
       "| str          | str         |         int32 |      bool |     bool |\n",
       "+--------------+-------------+---------------+-----------+----------+\n",
       "| \"snv\"        | \"snv\"       |             1 |     false |    false |\n",
       "| \"snv\"        | \"snv\"       |             1 |     false |    false |\n",
       "| \"snv\"        | \"snv\"       |             1 |     false |    false |\n",
       "| \"snv\"        | \"snv\"       |             1 |     false |    false |\n",
       "| \"snv\"        | \"snv\"       |             1 |     false |    false |\n",
       "| \"snv\"        | \"snv\"       |             1 |     false |    false |\n",
       "| \"snv\"        | \"snv\"       |             1 |     false |    false |\n",
       "| \"snv\"        | \"snv\"       |             1 |     false |    false |\n",
       "| \"snv\"        | \"snv\"       |             1 |     false |    false |\n",
       "| \"snv\"        | \"snv\"       |             1 |     false |    false |\n",
       "+--------------+-------------+---------------+-----------+----------+\n",
       "\n",
       "+----------------+----------------+----------------+-------------------+\n",
       "| AS_QD          | AS_MQRankSum   | AS_SOR         | AS_ReadPosRankSum |\n",
       "+----------------+----------------+----------------+-------------------+\n",
       "| array<float64> | array<float64> | array<float64> | array<float64>    |\n",
       "+----------------+----------------+----------------+-------------------+\n",
       "| [3.10e+01]     | NA             | NA             | NA                |\n",
       "| [7.23e+00]     | NA             | NA             | NA                |\n",
       "| [1.12e+01]     | NA             | NA             | NA                |\n",
       "| [1.07e+01]     | NA             | NA             | NA                |\n",
       "| [8.93e+00]     | NA             | NA             | NA                |\n",
       "| [1.65e+00]     | NA             | NA             | NA                |\n",
       "| [1.60e+01]     | NA             | NA             | NA                |\n",
       "| [3.15e+00]     | NA             | NA             | NA                |\n",
       "| [4.50e+00]     | NA             | NA             | NA                |\n",
       "| [6.55e+00]     | NA             | NA             | NA                |\n",
       "+----------------+----------------+----------------+-------------------+\n",
       "\n",
       "+--------+------+-------+---------------+-----------------------+-------+\n",
       "| hapmap | omni | mills | kgp_phase1_hc | transmitted_singleton |    fp |\n",
       "+--------+------+-------+---------------+-----------------------+-------+\n",
       "|   bool | bool |  bool |          bool |                  bool |  bool |\n",
       "+--------+------+-------+---------------+-----------------------+-------+\n",
       "|     NA |   NA |    NA |            NA |                    NA |  true |\n",
       "|     NA |   NA |    NA |            NA |                    NA | false |\n",
       "|     NA |   NA |    NA |            NA |                    NA |  true |\n",
       "|     NA |   NA |    NA |            NA |                    NA |  true |\n",
       "|     NA |   NA |    NA |            NA |                    NA |  true |\n",
       "|     NA |   NA |    NA |            NA |                    NA |  true |\n",
       "|     NA |   NA |    NA |            NA |                    NA |  true |\n",
       "|     NA |   NA |    NA |            NA |                    NA |  true |\n",
       "|     NA |   NA |    NA |            NA |                    NA |  true |\n",
       "|     NA |   NA |    NA |            NA |                    NA |  true |\n",
       "+--------+------+-------+---------------+-----------------------+-------+\n",
       "\n",
       "+----------+----------+---------+----------------+---------------+--------+\n",
       "| rf_train | rf_label | rf_test | rf_probability | rf_prediction | ac_raw |\n",
       "+----------+----------+---------+----------------+---------------+--------+\n",
       "|     bool | str      |    bool |        float64 | str           |  int32 |\n",
       "+----------+----------+---------+----------------+---------------+--------+\n",
       "|     true | \"FP\"     |   false |       3.16e-01 | \"FP\"          |      1 |\n",
       "|       NA | NA       |   false |       3.17e-01 | \"FP\"          |      1 |\n",
       "|     true | \"FP\"     |   false |       3.17e-01 | \"FP\"          |      1 |\n",
       "|     true | \"FP\"     |   false |       3.51e-01 | \"FP\"          |      1 |\n",
       "|     true | \"FP\"     |   false |       3.70e-01 | \"FP\"          |      1 |\n",
       "|     true | \"FP\"     |   false |       3.51e-01 | \"FP\"          |      1 |\n",
       "|     true | \"FP\"     |   false |       6.49e-01 | \"TP\"          |      1 |\n",
       "|     true | \"FP\"     |   false |       3.76e-01 | \"FP\"          |      1 |\n",
       "|     true | \"FP\"     |   false |       3.76e-01 | \"FP\"          |      1 |\n",
       "|     true | \"FP\"     |   false |       3.76e-01 | \"FP\"          |      1 |\n",
       "+----------+----------+---------+----------------+---------------+--------+\n",
       "\n",
       "+-------+--------------+-------------------+-------------------+\n",
       "|    ac | filters      | rf_positive_label | rf_negative_label |\n",
       "+-------+--------------+-------------------+-------------------+\n",
       "| int32 | set<str>     |              bool |              bool |\n",
       "+-------+--------------+-------------------+-------------------+\n",
       "|     1 | {\"AC0\",\"RF\"} |             false |              true |\n",
       "|     1 | {\"RF\"}       |             false |             false |\n",
       "|     1 | {\"AC0\",\"RF\"} |             false |              true |\n",
       "|     1 | {\"AC0\",\"RF\"} |             false |              true |\n",
       "|     1 | {\"RF\"}       |             false |              true |\n",
       "|     1 | {\"RF\"}       |             false |              true |\n",
       "|     1 | {\"RF\"}       |             false |              true |\n",
       "|     1 | {\"AC0\",\"RF\"} |             false |              true |\n",
       "|     1 | {\"AC0\",\"RF\"} |             false |              true |\n",
       "|     1 | {\"RF\"}       |             false |              true |\n",
       "+-------+--------------+-------------------+-------------------+\n",
       "showing top 10 rows"
      ]
     },
     "metadata": {},
     "output_type": "display_data"
    }
   ],
   "source": [
    "ht.row.show()"
   ]
  },
  {
   "cell_type": "code",
   "execution_count": 6,
   "metadata": {},
   "outputs": [
    {
     "data": {
      "text/plain": [
       "929613"
      ]
     },
     "execution_count": 6,
     "metadata": {},
     "output_type": "execute_result"
    }
   ],
   "source": [
    "ht.count()"
   ]
  },
  {
   "cell_type": "code",
   "execution_count": 8,
   "metadata": {},
   "outputs": [
    {
     "data": {
      "text/html": [
       "<table><thead style=\"font-weight: bold;\"><tr><td>test_results</td></tr>\n",
       "<tr><td>array&lt;struct{rf_prediction: str, rf_label: str, n: int32}&gt;</td></tr>\n",
       "</thead><tbody><tr><td>[(&quot;FP&quot;,&quot;FP&quot;,4501),(&quot;FP&quot;,&quot;TP&quot;,21389),(&quot;TP&quot;,&quot;FP&quot;,2264),(&quot;TP&quot;,&quot;TP&quot;,42193)]</td></tr>\n",
       "</tbody></table>"
      ],
      "text/plain": [
       "+-------------------------------------------------------------------------+\n",
       "| test_results                                                            |\n",
       "+-------------------------------------------------------------------------+\n",
       "| array<struct{rf_prediction: str, rf_label: str, n: int32}>              |\n",
       "+-------------------------------------------------------------------------+\n",
       "| [(\"FP\",\"FP\",4501),(\"FP\",\"TP\",21389),(\"TP\",\"FP\",2264),(\"TP\",\"TP\",42193)] |\n",
       "+-------------------------------------------------------------------------+"
      ]
     },
     "metadata": {},
     "output_type": "display_data"
    }
   ],
   "source": [
    "ht.globals.test_results.show()"
   ]
  },
  {
   "cell_type": "code",
   "execution_count": 2,
   "metadata": {},
   "outputs": [],
   "source": [
    "ht = hl.read_table(\n",
    "            f'{temp_dir}/ddd-elgh-ukbb/variant_qc/Sanger_cohorts_chr1-20-XY_sampleQC_FILTERED_FREQ_adj.ht')"
   ]
  },
  {
   "cell_type": "code",
   "execution_count": 3,
   "metadata": {},
   "outputs": [
    {
     "name": "stdout",
     "output_type": "stream",
     "text": [
      "----------------------------------------\n",
      "Global fields:\n",
      "    'freq_meta': array<dict<str, str>> \n",
      "----------------------------------------\n",
      "Row fields:\n",
      "    'locus': locus<GRCh38> \n",
      "    'alleles': array<str> \n",
      "    'rsid': str \n",
      "    'qual': float64 \n",
      "    'filters': set<str> \n",
      "    'info': struct {\n",
      "        AC: array<int32>, \n",
      "        AF: array<float64>, \n",
      "        AN: int32, \n",
      "        AS_BaseQRankSum: array<float64>, \n",
      "        AS_FS: array<float64>, \n",
      "        AS_InbreedingCoeff: array<float64>, \n",
      "        AS_MQ: array<float64>, \n",
      "        AS_MQRankSum: array<float64>, \n",
      "        AS_QD: array<float64>, \n",
      "        AS_ReadPosRankSum: array<float64>, \n",
      "        AS_SOR: array<float64>, \n",
      "        BaseQRankSum: float64, \n",
      "        DB: bool, \n",
      "        DP: int32, \n",
      "        DS: bool, \n",
      "        END: int32, \n",
      "        ExcessHet: float64, \n",
      "        FS: float64, \n",
      "        InbreedingCoeff: float64, \n",
      "        MLEAC: array<int32>, \n",
      "        MLEAF: array<float64>, \n",
      "        MQ: float64, \n",
      "        MQRankSum: float64, \n",
      "        QD: float64, \n",
      "        RAW_MQandDP: array<int32>, \n",
      "        ReadPosRankSum: float64, \n",
      "        SOR: float64\n",
      "    } \n",
      "    'a_index': int32 \n",
      "    'was_split': bool \n",
      "    'freq': array<struct {\n",
      "        AC: int32, \n",
      "        AF: float64, \n",
      "        AN: int32, \n",
      "        homozygote_count: int32\n",
      "    }> \n",
      "----------------------------------------\n",
      "Key: ['locus', 'alleles']\n",
      "----------------------------------------\n"
     ]
    }
   ],
   "source": [
    "ht.describe()"
   ]
  },
  {
   "cell_type": "code",
   "execution_count": 4,
   "metadata": {},
   "outputs": [],
   "source": [
    "ht=ht.annotate(InbreedingCoeff=ht.info.AS_InbreedingCoeff)"
   ]
  },
  {
   "cell_type": "code",
   "execution_count": 5,
   "metadata": {},
   "outputs": [
    {
     "name": "stderr",
     "output_type": "stream",
     "text": [
      "2020-10-12 15:42:00 Hail: INFO: wrote table with 4640042 rows in 21200 partitions to hdfs://spark-master:9820//Sanger_cohorts_chr1-20-XY_sampleQC_FILTERED_FREQ_adj_inb.ht\n"
     ]
    }
   ],
   "source": [
    "ht.write(f'{tmp_dir}/Sanger_cohorts_chr1-20-XY_sampleQC_FILTERED_FREQ_adj_inb.ht', overwrite=True)"
   ]
  },
  {
   "cell_type": "code",
   "execution_count": 2,
   "metadata": {},
   "outputs": [],
   "source": [
    "run_hash=\"aa7a0685\"\n",
    "rf_model = hl.read_table(\n",
    "            f'{temp_dir}/ddd-elgh-ukbb/variant_qc/models/{run_hash}/training.ht')"
   ]
  },
  {
   "cell_type": "code",
   "execution_count": 11,
   "metadata": {},
   "outputs": [],
   "source": [
    "ht = hl.read_table(\n",
    "            f'{temp_dir}/ddd-elgh-ukbb/variant_qc/Sanger_cohorts_chr1-20-XY_sampleQC_FILTERED_FREQ_adj_inb.ht')\n",
    "        #ht = get_rf(data=\"training\", run_hash=run_hash).ht()\n",
    "features = hl.eval(rf_model.features)"
   ]
  },
  {
   "cell_type": "code",
   "execution_count": 12,
   "metadata": {},
   "outputs": [
    {
     "data": {
      "text/plain": [
       "4640042"
      ]
     },
     "execution_count": 12,
     "metadata": {},
     "output_type": "execute_result"
    }
   ],
   "source": [
    "ht.count()"
   ]
  },
  {
   "cell_type": "code",
   "execution_count": 6,
   "metadata": {},
   "outputs": [
    {
     "data": {
      "text/plain": [
       "['InbreedingCoeff',\n",
       " 'variant_type',\n",
       " 'allele_type',\n",
       " 'n_alt_alleles',\n",
       " 'was_mixed',\n",
       " 'has_star']"
      ]
     },
     "execution_count": 6,
     "metadata": {},
     "output_type": "execute_result"
    }
   ],
   "source": [
    "features"
   ]
  },
  {
   "cell_type": "code",
   "execution_count": 7,
   "metadata": {},
   "outputs": [
    {
     "name": "stdout",
     "output_type": "stream",
     "text": [
      "----------------------------------------\n",
      "Global fields:\n",
      "    'freq_meta': array<dict<str, str>> \n",
      "----------------------------------------\n",
      "Row fields:\n",
      "    'locus': locus<GRCh38> \n",
      "    'alleles': array<str> \n",
      "    'rsid': str \n",
      "    'qual': float64 \n",
      "    'filters': set<str> \n",
      "    'info': struct {\n",
      "        AC: array<int32>, \n",
      "        AF: array<float64>, \n",
      "        AN: int32, \n",
      "        AS_BaseQRankSum: array<float64>, \n",
      "        AS_FS: array<float64>, \n",
      "        AS_InbreedingCoeff: array<float64>, \n",
      "        AS_MQ: array<float64>, \n",
      "        AS_MQRankSum: array<float64>, \n",
      "        AS_QD: array<float64>, \n",
      "        AS_ReadPosRankSum: array<float64>, \n",
      "        AS_SOR: array<float64>, \n",
      "        BaseQRankSum: float64, \n",
      "        DB: bool, \n",
      "        DP: int32, \n",
      "        DS: bool, \n",
      "        END: int32, \n",
      "        ExcessHet: float64, \n",
      "        FS: float64, \n",
      "        InbreedingCoeff: float64, \n",
      "        MLEAC: array<int32>, \n",
      "        MLEAF: array<float64>, \n",
      "        MQ: float64, \n",
      "        MQRankSum: float64, \n",
      "        QD: float64, \n",
      "        RAW_MQandDP: array<int32>, \n",
      "        ReadPosRankSum: float64, \n",
      "        SOR: float64\n",
      "    } \n",
      "    'a_index': int32 \n",
      "    'was_split': bool \n",
      "    'freq': array<struct {\n",
      "        AC: int32, \n",
      "        AF: float64, \n",
      "        AN: int32, \n",
      "        homozygote_count: int32\n",
      "    }> \n",
      "    'InbreedingCoeff': array<float64> \n",
      "----------------------------------------\n",
      "Key: ['locus', 'alleles']\n",
      "----------------------------------------\n"
     ]
    }
   ],
   "source": [
    "ht.describe()"
   ]
  },
  {
   "cell_type": "code",
   "execution_count": 8,
   "metadata": {},
   "outputs": [],
   "source": [
    "ht = hl.read_table(\n",
    "        f'{temp_dir}/ddd-elgh-ukbb/variant_qc/Sanger_table_for_RF_by_variant_type.ht')"
   ]
  },
  {
   "cell_type": "code",
   "execution_count": 9,
   "metadata": {},
   "outputs": [
    {
     "name": "stdout",
     "output_type": "stream",
     "text": [
      "----------------------------------------\n",
      "Global fields:\n",
      "    'feature_medians': dict<tuple (\n",
      "        str\n",
      "    ), struct {\n",
      "        a_index: int32, \n",
      "        InbreedingCoeff: float64, \n",
      "        n_alt_alleles: int32\n",
      "    }> \n",
      "    'variants_by_strata': dict<tuple (\n",
      "        str\n",
      "    ), int64> \n",
      "----------------------------------------\n",
      "Row fields:\n",
      "    'locus': locus<GRCh38> \n",
      "    'alleles': array<str> \n",
      "    'a_index': int32 \n",
      "    'was_split': bool \n",
      "    'InbreedingCoeff': float64 \n",
      "    'variant_type': str \n",
      "    'allele_type': str \n",
      "    'n_alt_alleles': int32 \n",
      "    'was_mixed': bool \n",
      "    'has_star': bool \n",
      "    'AS_QD': array<float64> \n",
      "    'AS_MQRankSum': array<float64> \n",
      "    'AS_SOR': array<float64> \n",
      "    'AS_ReadPosRankSum': array<float64> \n",
      "    'hapmap': bool \n",
      "    'omni': bool \n",
      "    'mills': bool \n",
      "    'kgp_phase1_hc': bool \n",
      "    'transmitted_singleton': bool \n",
      "    'fail_hard_filters': bool \n",
      "    'feature_imputed': struct {\n",
      "        a_index: bool, \n",
      "        InbreedingCoeff: bool, \n",
      "        n_alt_alleles: bool\n",
      "    } \n",
      "----------------------------------------\n",
      "Key: ['locus', 'alleles']\n",
      "----------------------------------------\n"
     ]
    }
   ],
   "source": [
    "ht.describe()"
   ]
  },
  {
   "cell_type": "code",
   "execution_count": 10,
   "metadata": {},
   "outputs": [
    {
     "data": {
      "text/plain": [
       "929613"
      ]
     },
     "execution_count": 10,
     "metadata": {},
     "output_type": "execute_result"
    }
   ],
   "source": [
    "ht.count()"
   ]
  },
  {
   "cell_type": "code",
   "execution_count": 14,
   "metadata": {},
   "outputs": [],
   "source": [
    "ht = hl.read_table(\n",
    "         f'{temp_dir}/ddd-elgh-ukbb/variant_qc/Sanger_table_for_RF.ht')"
   ]
  },
  {
   "cell_type": "code",
   "execution_count": 15,
   "metadata": {},
   "outputs": [
    {
     "data": {
      "text/plain": [
       "929613"
      ]
     },
     "execution_count": 15,
     "metadata": {},
     "output_type": "execute_result"
    }
   ],
   "source": [
    "ht.count()"
   ]
  },
  {
   "cell_type": "code",
   "execution_count": 16,
   "metadata": {},
   "outputs": [],
   "source": [
    "# ANNOTATION TABLES:\n",
    "truth_data_ht = hl.read_table(\n",
    "        f'{temp_dir}/ddd-elgh-ukbb/variant_qc/truthset_table.ht')\n",
    "trio_stats_table = hl.read_table(\n",
    "        f'{temp_dir}/ddd-elgh-ukbb/variant_qc/Sanger_cohorts_trios_stats.ht')\n",
    "    #inbreeding_ht = hl.read_table(f'{temp_dir}/ddd-elgh-ukbb/variant_qc/Sanger_cohorts_inbreeding.ht')\n",
    "allele_data_ht = hl.read_table(\n",
    "        f'{temp_dir}/ddd-elgh-ukbb/variant_qc/Sanger_cohorts_allele_data.ht')\n",
    "allele_counts_ht = hl.read_table(\n",
    "        f'{temp_dir}/ddd-elgh-ukbb/variant_qc/Sanger_cohorts_qc_ac.ht')\n"
   ]
  },
  {
   "cell_type": "code",
   "execution_count": 17,
   "metadata": {},
   "outputs": [
    {
     "ename": "NameError",
     "evalue": "name 'INFO_FEATURES' is not defined",
     "output_type": "error",
     "traceback": [
      "\u001b[0;31m---------------------------------------------------------------------------\u001b[0m",
      "\u001b[0;31mNameError\u001b[0m                                 Traceback (most recent call last)",
      "\u001b[0;32m<ipython-input-17-a51797584715>\u001b[0m in \u001b[0;36m<module>\u001b[0;34m\u001b[0m\n\u001b[1;32m      8\u001b[0m \u001b[0mht\u001b[0m \u001b[0;34m=\u001b[0m \u001b[0mmt\u001b[0m\u001b[0;34m.\u001b[0m\u001b[0mrows\u001b[0m\u001b[0;34m(\u001b[0m\u001b[0;34m)\u001b[0m\u001b[0;34m\u001b[0m\u001b[0;34m\u001b[0m\u001b[0m\n\u001b[1;32m      9\u001b[0m \u001b[0mht\u001b[0m \u001b[0;34m=\u001b[0m \u001b[0mht\u001b[0m\u001b[0;34m.\u001b[0m\u001b[0mtransmute\u001b[0m\u001b[0;34m(\u001b[0m\u001b[0;34m**\u001b[0m\u001b[0mht\u001b[0m\u001b[0;34m.\u001b[0m\u001b[0minfo\u001b[0m\u001b[0;34m)\u001b[0m\u001b[0;34m\u001b[0m\u001b[0;34m\u001b[0m\u001b[0m\n\u001b[0;32m---> 10\u001b[0;31m \u001b[0mht\u001b[0m \u001b[0;34m=\u001b[0m \u001b[0mht\u001b[0m\u001b[0;34m.\u001b[0m\u001b[0mselect\u001b[0m\u001b[0;34m(\u001b[0m\u001b[0;34m\"FS\"\u001b[0m\u001b[0;34m,\u001b[0m \u001b[0;34m\"MQ\"\u001b[0m\u001b[0;34m,\u001b[0m \u001b[0;34m\"QD\"\u001b[0m\u001b[0;34m,\u001b[0m \u001b[0;34m\"InbreedingCoeff\"\u001b[0m\u001b[0;34m,\u001b[0m \u001b[0;34m*\u001b[0m\u001b[0mINFO_FEATURES\u001b[0m\u001b[0;34m)\u001b[0m\u001b[0;34m\u001b[0m\u001b[0;34m\u001b[0m\u001b[0m\n\u001b[0m",
      "\u001b[0;31mNameError\u001b[0m: name 'INFO_FEATURES' is not defined"
     ]
    }
   ],
   "source": [
    "group = \"raw\"\n",
    "mt = hl.read_matrix_table(\n",
    "        f'{temp_dir}/ddd-elgh-ukbb/filtering/Sanger_cohorts_chr1-20-XY_sampleQC_FILTERED.mt')\n",
    "mt = mt.select_entries(\n",
    "        GT=hl.unphased_diploid_gt_index_call(mt.GT.n_alt_alleles()))\n",
    "mt = mt.annotate_rows(InbreedingCoeff=hl.or_missing(\n",
    "        ~hl.is_nan(mt.info.InbreedingCoeff), mt.info.InbreedingCoeff))\n",
    "ht = mt.rows()\n",
    "ht = ht.transmute(**ht.info)\n",
    "ht = ht.select(\"FS\", \"MQ\", \"QD\", \"InbreedingCoeff\", *INFO_FEATURES)"
   ]
  },
  {
   "cell_type": "code",
   "execution_count": 18,
   "metadata": {},
   "outputs": [],
   "source": [
    "INFO_FEATURES = [\n",
    "    \"AS_QD\",\n",
    "    \"AS_ReadPosRankSum\",\n",
    "    \"AS_MQRankSum\",\n",
    "    \"AS_SOR\",\n",
    "]  # Note: AS_SOR is currently in VQSR HT and named SOR in the VQSR split HT"
   ]
  },
  {
   "cell_type": "code",
   "execution_count": 19,
   "metadata": {},
   "outputs": [],
   "source": [
    "ht = ht.select(\"FS\", \"MQ\", \"QD\", \"InbreedingCoeff\", *INFO_FEATURES)"
   ]
  },
  {
   "cell_type": "code",
   "execution_count": 20,
   "metadata": {},
   "outputs": [
    {
     "data": {
      "text/plain": [
       "4640042"
      ]
     },
     "execution_count": 20,
     "metadata": {},
     "output_type": "execute_result"
    }
   ],
   "source": [
    "ht.count()"
   ]
  },
  {
   "cell_type": "code",
   "execution_count": 21,
   "metadata": {},
   "outputs": [
    {
     "name": "stdout",
     "output_type": "stream",
     "text": [
      "----------------------------------------\n",
      "Global fields:\n",
      "    None\n",
      "----------------------------------------\n",
      "Row fields:\n",
      "    'locus': locus<GRCh38> \n",
      "    'alleles': array<str> \n",
      "    'FS': float64 \n",
      "    'MQ': float64 \n",
      "    'QD': float64 \n",
      "    'InbreedingCoeff': float64 \n",
      "    'AS_QD': array<float64> \n",
      "    'AS_ReadPosRankSum': array<float64> \n",
      "    'AS_MQRankSum': array<float64> \n",
      "    'AS_SOR': array<float64> \n",
      "----------------------------------------\n",
      "Key: ['locus', 'alleles']\n",
      "----------------------------------------\n"
     ]
    }
   ],
   "source": [
    "ht.describe()"
   ]
  },
  {
   "cell_type": "code",
   "execution_count": 22,
   "metadata": {},
   "outputs": [],
   "source": [
    "trio_stats_ht = trio_stats_table.select(\n",
    "        f\"n_transmitted_{group}\", f\"ac_children_{group}\"\n",
    "    )\n",
    "\n",
    "ht = ht.annotate(\n",
    "        **trio_stats_ht[ht.key],\n",
    "        **truth_data_ht[ht.key],\n",
    "        **allele_data_ht[ht.key].allele_data,\n",
    "        **allele_counts_ht[ht.key],\n",
    "    )"
   ]
  },
  {
   "cell_type": "code",
   "execution_count": 23,
   "metadata": {},
   "outputs": [
    {
     "name": "stdout",
     "output_type": "stream",
     "text": [
      "----------------------------------------\n",
      "Global fields:\n",
      "    None\n",
      "----------------------------------------\n",
      "Row fields:\n",
      "    'locus': locus<GRCh38> \n",
      "    'alleles': array<str> \n",
      "    'FS': float64 \n",
      "    'MQ': float64 \n",
      "    'QD': float64 \n",
      "    'InbreedingCoeff': float64 \n",
      "    'AS_QD': array<float64> \n",
      "    'AS_ReadPosRankSum': array<float64> \n",
      "    'AS_MQRankSum': array<float64> \n",
      "    'AS_SOR': array<float64> \n",
      "    'n_transmitted_raw': int64 \n",
      "    'ac_children_raw': int64 \n",
      "    'hapmap': bool \n",
      "    'omni': bool \n",
      "    'kgp_phase1_hc': bool \n",
      "    'mills': bool \n",
      "    'nonsplit_alleles': array<str> \n",
      "    'has_star': bool \n",
      "    'variant_type': str \n",
      "    'n_alt_alleles': int32 \n",
      "    'allele_type': str \n",
      "    'was_mixed': bool \n",
      "    'rsid': str \n",
      "    'qual': float64 \n",
      "    'filters': set<str> \n",
      "    'info': struct {\n",
      "        AC: array<int32>, \n",
      "        AF: array<float64>, \n",
      "        AN: int32, \n",
      "        AS_BaseQRankSum: array<float64>, \n",
      "        AS_FS: array<float64>, \n",
      "        AS_InbreedingCoeff: array<float64>, \n",
      "        AS_MQ: array<float64>, \n",
      "        AS_MQRankSum: array<float64>, \n",
      "        AS_QD: array<float64>, \n",
      "        AS_ReadPosRankSum: array<float64>, \n",
      "        AS_SOR: array<float64>, \n",
      "        BaseQRankSum: float64, \n",
      "        DB: bool, \n",
      "        DP: int32, \n",
      "        DS: bool, \n",
      "        END: int32, \n",
      "        ExcessHet: float64, \n",
      "        FS: float64, \n",
      "        InbreedingCoeff: float64, \n",
      "        MLEAC: array<int32>, \n",
      "        MLEAF: array<float64>, \n",
      "        MQ: float64, \n",
      "        MQRankSum: float64, \n",
      "        QD: float64, \n",
      "        RAW_MQandDP: array<int32>, \n",
      "        ReadPosRankSum: float64, \n",
      "        SOR: float64\n",
      "    } \n",
      "    'a_index': int32 \n",
      "    'was_split': bool \n",
      "    'variant_qc': struct {\n",
      "        dp_stats: struct {\n",
      "            mean: float64, \n",
      "            stdev: float64, \n",
      "            min: float64, \n",
      "            max: float64\n",
      "        }, \n",
      "        gq_stats: struct {\n",
      "            mean: float64, \n",
      "            stdev: float64, \n",
      "            min: float64, \n",
      "            max: float64\n",
      "        }, \n",
      "        AC: array<int32>, \n",
      "        AF: array<float64>, \n",
      "        AN: int32, \n",
      "        homozygote_count: array<int32>, \n",
      "        call_rate: float64, \n",
      "        n_called: int64, \n",
      "        n_not_called: int64, \n",
      "        n_filtered: int64, \n",
      "        n_het: int64, \n",
      "        n_non_ref: int64, \n",
      "        het_freq_hwe: float64, \n",
      "        p_value_hwe: float64\n",
      "    } \n",
      "----------------------------------------\n",
      "Key: ['locus', 'alleles']\n",
      "----------------------------------------\n"
     ]
    }
   ],
   "source": [
    "ht.describe()"
   ]
  },
  {
   "cell_type": "code",
   "execution_count": 24,
   "metadata": {},
   "outputs": [
    {
     "name": "stderr",
     "output_type": "stream",
     "text": [
      "2020-10-12 16:15:29 Hail: INFO: wrote table with 4640042 rows in 21200 partitions to hdfs://spark-master:9820//ddd-elgh-ukbb/Sanger_cohorts_for_RF_unfiltered.ht\n"
     ]
    }
   ],
   "source": [
    " ht = ht.checkpoint(\n",
    "        f'{tmp_dir}/ddd-elgh-ukbb/Sanger_cohorts_for_RF_unfiltered.ht', overwrite=True)"
   ]
  },
  {
   "cell_type": "code",
   "execution_count": 25,
   "metadata": {},
   "outputs": [],
   "source": [
    "rf_model = hl.read_table(\n",
    "            f'{temp_dir}/ddd-elgh-ukbb/variant_qc/models/{run_hash}/training.ht')\n",
    "        # ht = hl.read_table(\n",
    "        #    f'{temp_dir}/ddd-elgh-ukbb/variant_qc/Sanger_cohorts_chr1-20-XY_sampleQC_FILTERED_FREQ_adj_inb.ht')\n",
    "ht = hl.read_table(\n",
    "            f'{temp_dir}/ddd-elgh-ukbb/variant_qc/Sanger_cohorts_for_RF_unfiltered.ht')"
   ]
  },
  {
   "cell_type": "code",
   "execution_count": 26,
   "metadata": {},
   "outputs": [
    {
     "name": "stdout",
     "output_type": "stream",
     "text": [
      "----------------------------------------\n",
      "Global fields:\n",
      "    'feature_medians': dict<tuple (\n",
      "        str\n",
      "    ), struct {\n",
      "        a_index: int32, \n",
      "        InbreedingCoeff: float64, \n",
      "        n_alt_alleles: int32\n",
      "    }> \n",
      "    'variants_by_strata': dict<tuple (\n",
      "        str\n",
      "    ), int64> \n",
      "    'features_importance': dict<str, float64> \n",
      "    'features': array<str> \n",
      "    'test_results': array<struct {\n",
      "        rf_prediction: str, \n",
      "        rf_label: str, \n",
      "        n: int32\n",
      "    }> \n",
      "----------------------------------------\n",
      "Row fields:\n",
      "    'locus': locus<GRCh38> \n",
      "    'alleles': array<str> \n",
      "    'a_index': int32 \n",
      "    'was_split': bool \n",
      "    'InbreedingCoeff': float64 \n",
      "    'variant_type': str \n",
      "    'allele_type': str \n",
      "    'n_alt_alleles': int32 \n",
      "    'was_mixed': bool \n",
      "    'has_star': bool \n",
      "    'AS_QD': array<float64> \n",
      "    'AS_MQRankSum': array<float64> \n",
      "    'AS_SOR': array<float64> \n",
      "    'AS_ReadPosRankSum': array<float64> \n",
      "    'hapmap': bool \n",
      "    'omni': bool \n",
      "    'mills': bool \n",
      "    'kgp_phase1_hc': bool \n",
      "    'transmitted_singleton': bool \n",
      "    'fail_hard_filters': bool \n",
      "    'feature_imputed': struct {\n",
      "        a_index: bool, \n",
      "        InbreedingCoeff: bool, \n",
      "        n_alt_alleles: bool\n",
      "    } \n",
      "    'tp': bool \n",
      "    'fp': bool \n",
      "    'rf_train': bool \n",
      "    'rf_label': str \n",
      "    'rf_test': bool \n",
      "----------------------------------------\n",
      "Key: ['locus', 'alleles']\n",
      "----------------------------------------\n"
     ]
    }
   ],
   "source": [
    "rf_model.describe()"
   ]
  },
  {
   "cell_type": "code",
   "execution_count": 27,
   "metadata": {},
   "outputs": [],
   "source": [
    "ht=ht.annotate(rf_label=rf_model[ht.key].rf_label)"
   ]
  },
  {
   "cell_type": "code",
   "execution_count": null,
   "metadata": {},
   "outputs": [],
   "source": []
  }
 ],
 "metadata": {
  "kernelspec": {
   "display_name": "Python 3",
   "language": "python",
   "name": "python3"
  },
  "language_info": {
   "codemirror_mode": {
    "name": "ipython",
    "version": 3
   },
   "file_extension": ".py",
   "mimetype": "text/x-python",
   "name": "python",
   "nbconvert_exporter": "python",
   "pygments_lexer": "ipython3",
   "version": "3.6.9"
  }
 },
 "nbformat": 4,
 "nbformat_minor": 4
}
