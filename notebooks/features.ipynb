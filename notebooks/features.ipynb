{
 "cells": [
  {
   "cell_type": "code",
   "execution_count": 1,
   "metadata": {},
   "outputs": [
    {
     "name": "stderr",
     "output_type": "stream",
     "text": [
      "pip-installed Hail requires additional configuration options in Spark referring\n",
      "  to the path to the Hail Python module directory HAIL_DIR,\n",
      "  e.g. /path/to/python/site-packages/hail:\n",
      "    spark.jars=HAIL_DIR/hail-all-spark.jar\n",
      "    spark.driver.extraClassPath=HAIL_DIR/hail-all-spark.jar\n",
      "    spark.executor.extraClassPath=./hail-all-spark.jarRunning on Apache Spark version 2.4.5\n",
      "SparkUI available at http://spark-master:4040\n",
      "Welcome to\n",
      "     __  __     <>__\n",
      "    / /_/ /__  __/ /\n",
      "   / __  / _ `/ / /\n",
      "  /_/ /_/\\_,_/_/_/   version 0.2.41-b8144dba46e6\n",
      "LOGGING: writing to /home/ubuntu/data/tmp/scripts/sanger_gnomad_hail_qc/notebooks/hail-20201109-1632-0.2.41-b8144dba46e6.log\n"
     ]
    },
    {
     "data": {
      "text/html": [
       "\n",
       "    <div class=\"bk-root\">\n",
       "        <a href=\"https://bokeh.pydata.org\" target=\"_blank\" class=\"bk-logo bk-logo-small bk-logo-notebook\"></a>\n",
       "        <span id=\"1001\">Loading BokehJS ...</span>\n",
       "    </div>"
      ]
     },
     "metadata": {},
     "output_type": "display_data"
    },
    {
     "data": {
      "application/javascript": [
       "\n",
       "(function(root) {\n",
       "  function now() {\n",
       "    return new Date();\n",
       "  }\n",
       "\n",
       "  var force = true;\n",
       "\n",
       "  if (typeof root._bokeh_onload_callbacks === \"undefined\" || force === true) {\n",
       "    root._bokeh_onload_callbacks = [];\n",
       "    root._bokeh_is_loading = undefined;\n",
       "  }\n",
       "\n",
       "  var JS_MIME_TYPE = 'application/javascript';\n",
       "  var HTML_MIME_TYPE = 'text/html';\n",
       "  var EXEC_MIME_TYPE = 'application/vnd.bokehjs_exec.v0+json';\n",
       "  var CLASS_NAME = 'output_bokeh rendered_html';\n",
       "\n",
       "  /**\n",
       "   * Render data to the DOM node\n",
       "   */\n",
       "  function render(props, node) {\n",
       "    var script = document.createElement(\"script\");\n",
       "    node.appendChild(script);\n",
       "  }\n",
       "\n",
       "  /**\n",
       "   * Handle when an output is cleared or removed\n",
       "   */\n",
       "  function handleClearOutput(event, handle) {\n",
       "    var cell = handle.cell;\n",
       "\n",
       "    var id = cell.output_area._bokeh_element_id;\n",
       "    var server_id = cell.output_area._bokeh_server_id;\n",
       "    // Clean up Bokeh references\n",
       "    if (id != null && id in Bokeh.index) {\n",
       "      Bokeh.index[id].model.document.clear();\n",
       "      delete Bokeh.index[id];\n",
       "    }\n",
       "\n",
       "    if (server_id !== undefined) {\n",
       "      // Clean up Bokeh references\n",
       "      var cmd = \"from bokeh.io.state import curstate; print(curstate().uuid_to_server['\" + server_id + \"'].get_sessions()[0].document.roots[0]._id)\";\n",
       "      cell.notebook.kernel.execute(cmd, {\n",
       "        iopub: {\n",
       "          output: function(msg) {\n",
       "            var id = msg.content.text.trim();\n",
       "            if (id in Bokeh.index) {\n",
       "              Bokeh.index[id].model.document.clear();\n",
       "              delete Bokeh.index[id];\n",
       "            }\n",
       "          }\n",
       "        }\n",
       "      });\n",
       "      // Destroy server and session\n",
       "      var cmd = \"import bokeh.io.notebook as ion; ion.destroy_server('\" + server_id + \"')\";\n",
       "      cell.notebook.kernel.execute(cmd);\n",
       "    }\n",
       "  }\n",
       "\n",
       "  /**\n",
       "   * Handle when a new output is added\n",
       "   */\n",
       "  function handleAddOutput(event, handle) {\n",
       "    var output_area = handle.output_area;\n",
       "    var output = handle.output;\n",
       "\n",
       "    // limit handleAddOutput to display_data with EXEC_MIME_TYPE content only\n",
       "    if ((output.output_type != \"display_data\") || (!output.data.hasOwnProperty(EXEC_MIME_TYPE))) {\n",
       "      return\n",
       "    }\n",
       "\n",
       "    var toinsert = output_area.element.find(\".\" + CLASS_NAME.split(' ')[0]);\n",
       "\n",
       "    if (output.metadata[EXEC_MIME_TYPE][\"id\"] !== undefined) {\n",
       "      toinsert[toinsert.length - 1].firstChild.textContent = output.data[JS_MIME_TYPE];\n",
       "      // store reference to embed id on output_area\n",
       "      output_area._bokeh_element_id = output.metadata[EXEC_MIME_TYPE][\"id\"];\n",
       "    }\n",
       "    if (output.metadata[EXEC_MIME_TYPE][\"server_id\"] !== undefined) {\n",
       "      var bk_div = document.createElement(\"div\");\n",
       "      bk_div.innerHTML = output.data[HTML_MIME_TYPE];\n",
       "      var script_attrs = bk_div.children[0].attributes;\n",
       "      for (var i = 0; i < script_attrs.length; i++) {\n",
       "        toinsert[toinsert.length - 1].firstChild.setAttribute(script_attrs[i].name, script_attrs[i].value);\n",
       "      }\n",
       "      // store reference to server id on output_area\n",
       "      output_area._bokeh_server_id = output.metadata[EXEC_MIME_TYPE][\"server_id\"];\n",
       "    }\n",
       "  }\n",
       "\n",
       "  function register_renderer(events, OutputArea) {\n",
       "\n",
       "    function append_mime(data, metadata, element) {\n",
       "      // create a DOM node to render to\n",
       "      var toinsert = this.create_output_subarea(\n",
       "        metadata,\n",
       "        CLASS_NAME,\n",
       "        EXEC_MIME_TYPE\n",
       "      );\n",
       "      this.keyboard_manager.register_events(toinsert);\n",
       "      // Render to node\n",
       "      var props = {data: data, metadata: metadata[EXEC_MIME_TYPE]};\n",
       "      render(props, toinsert[toinsert.length - 1]);\n",
       "      element.append(toinsert);\n",
       "      return toinsert\n",
       "    }\n",
       "\n",
       "    /* Handle when an output is cleared or removed */\n",
       "    events.on('clear_output.CodeCell', handleClearOutput);\n",
       "    events.on('delete.Cell', handleClearOutput);\n",
       "\n",
       "    /* Handle when a new output is added */\n",
       "    events.on('output_added.OutputArea', handleAddOutput);\n",
       "\n",
       "    /**\n",
       "     * Register the mime type and append_mime function with output_area\n",
       "     */\n",
       "    OutputArea.prototype.register_mime_type(EXEC_MIME_TYPE, append_mime, {\n",
       "      /* Is output safe? */\n",
       "      safe: true,\n",
       "      /* Index of renderer in `output_area.display_order` */\n",
       "      index: 0\n",
       "    });\n",
       "  }\n",
       "\n",
       "  // register the mime type if in Jupyter Notebook environment and previously unregistered\n",
       "  if (root.Jupyter !== undefined) {\n",
       "    var events = require('base/js/events');\n",
       "    var OutputArea = require('notebook/js/outputarea').OutputArea;\n",
       "\n",
       "    if (OutputArea.prototype.mime_types().indexOf(EXEC_MIME_TYPE) == -1) {\n",
       "      register_renderer(events, OutputArea);\n",
       "    }\n",
       "  }\n",
       "\n",
       "  \n",
       "  if (typeof (root._bokeh_timeout) === \"undefined\" || force === true) {\n",
       "    root._bokeh_timeout = Date.now() + 5000;\n",
       "    root._bokeh_failed_load = false;\n",
       "  }\n",
       "\n",
       "  var NB_LOAD_WARNING = {'data': {'text/html':\n",
       "     \"<div style='background-color: #fdd'>\\n\"+\n",
       "     \"<p>\\n\"+\n",
       "     \"BokehJS does not appear to have successfully loaded. If loading BokehJS from CDN, this \\n\"+\n",
       "     \"may be due to a slow or bad network connection. Possible fixes:\\n\"+\n",
       "     \"</p>\\n\"+\n",
       "     \"<ul>\\n\"+\n",
       "     \"<li>re-rerun `output_notebook()` to attempt to load from CDN again, or</li>\\n\"+\n",
       "     \"<li>use INLINE resources instead, as so:</li>\\n\"+\n",
       "     \"</ul>\\n\"+\n",
       "     \"<code>\\n\"+\n",
       "     \"from bokeh.resources import INLINE\\n\"+\n",
       "     \"output_notebook(resources=INLINE)\\n\"+\n",
       "     \"</code>\\n\"+\n",
       "     \"</div>\"}};\n",
       "\n",
       "  function display_loaded() {\n",
       "    var el = document.getElementById(\"1001\");\n",
       "    if (el != null) {\n",
       "      el.textContent = \"BokehJS is loading...\";\n",
       "    }\n",
       "    if (root.Bokeh !== undefined) {\n",
       "      if (el != null) {\n",
       "        el.textContent = \"BokehJS \" + root.Bokeh.version + \" successfully loaded.\";\n",
       "      }\n",
       "    } else if (Date.now() < root._bokeh_timeout) {\n",
       "      setTimeout(display_loaded, 100)\n",
       "    }\n",
       "  }\n",
       "\n",
       "\n",
       "  function run_callbacks() {\n",
       "    try {\n",
       "      root._bokeh_onload_callbacks.forEach(function(callback) {\n",
       "        if (callback != null)\n",
       "          callback();\n",
       "      });\n",
       "    } finally {\n",
       "      delete root._bokeh_onload_callbacks\n",
       "    }\n",
       "    console.debug(\"Bokeh: all callbacks have finished\");\n",
       "  }\n",
       "\n",
       "  function load_libs(css_urls, js_urls, callback) {\n",
       "    if (css_urls == null) css_urls = [];\n",
       "    if (js_urls == null) js_urls = [];\n",
       "\n",
       "    root._bokeh_onload_callbacks.push(callback);\n",
       "    if (root._bokeh_is_loading > 0) {\n",
       "      console.debug(\"Bokeh: BokehJS is being loaded, scheduling callback at\", now());\n",
       "      return null;\n",
       "    }\n",
       "    if (js_urls == null || js_urls.length === 0) {\n",
       "      run_callbacks();\n",
       "      return null;\n",
       "    }\n",
       "    console.debug(\"Bokeh: BokehJS not loaded, scheduling load and callback at\", now());\n",
       "    root._bokeh_is_loading = css_urls.length + js_urls.length;\n",
       "\n",
       "    function on_load() {\n",
       "      root._bokeh_is_loading--;\n",
       "      if (root._bokeh_is_loading === 0) {\n",
       "        console.debug(\"Bokeh: all BokehJS libraries/stylesheets loaded\");\n",
       "        run_callbacks()\n",
       "      }\n",
       "    }\n",
       "\n",
       "    function on_error() {\n",
       "      console.error(\"failed to load \" + url);\n",
       "    }\n",
       "\n",
       "    for (var i = 0; i < css_urls.length; i++) {\n",
       "      var url = css_urls[i];\n",
       "      const element = document.createElement(\"link\");\n",
       "      element.onload = on_load;\n",
       "      element.onerror = on_error;\n",
       "      element.rel = \"stylesheet\";\n",
       "      element.type = \"text/css\";\n",
       "      element.href = url;\n",
       "      console.debug(\"Bokeh: injecting link tag for BokehJS stylesheet: \", url);\n",
       "      document.body.appendChild(element);\n",
       "    }\n",
       "\n",
       "    for (var i = 0; i < js_urls.length; i++) {\n",
       "      var url = js_urls[i];\n",
       "      var element = document.createElement('script');\n",
       "      element.onload = on_load;\n",
       "      element.onerror = on_error;\n",
       "      element.async = false;\n",
       "      element.src = url;\n",
       "      console.debug(\"Bokeh: injecting script tag for BokehJS library: \", url);\n",
       "      document.head.appendChild(element);\n",
       "    }\n",
       "  };var element = document.getElementById(\"1001\");\n",
       "  if (element == null) {\n",
       "    console.error(\"Bokeh: ERROR: autoload.js configured with elementid '1001' but no matching script tag was found. \")\n",
       "    return false;\n",
       "  }\n",
       "\n",
       "  function inject_raw_css(css) {\n",
       "    const element = document.createElement(\"style\");\n",
       "    element.appendChild(document.createTextNode(css));\n",
       "    document.body.appendChild(element);\n",
       "  }\n",
       "\n",
       "  var js_urls = [\"https://cdn.pydata.org/bokeh/release/bokeh-1.2.0.min.js\", \"https://cdn.pydata.org/bokeh/release/bokeh-widgets-1.2.0.min.js\", \"https://cdn.pydata.org/bokeh/release/bokeh-tables-1.2.0.min.js\", \"https://cdn.pydata.org/bokeh/release/bokeh-gl-1.2.0.min.js\"];\n",
       "  var css_urls = [\"https://cdn.pydata.org/bokeh/release/bokeh-1.2.0.min.css\", \"https://cdn.pydata.org/bokeh/release/bokeh-widgets-1.2.0.min.css\", \"https://cdn.pydata.org/bokeh/release/bokeh-tables-1.2.0.min.css\"];\n",
       "\n",
       "  var inline_js = [\n",
       "    function(Bokeh) {\n",
       "      Bokeh.set_log_level(\"info\");\n",
       "    },\n",
       "    \n",
       "    function(Bokeh) {\n",
       "      \n",
       "    },\n",
       "    function(Bokeh) {} // ensure no trailing comma for IE\n",
       "  ];\n",
       "\n",
       "  function run_inline_js() {\n",
       "    \n",
       "    if ((root.Bokeh !== undefined) || (force === true)) {\n",
       "      for (var i = 0; i < inline_js.length; i++) {\n",
       "        inline_js[i].call(root, root.Bokeh);\n",
       "      }if (force === true) {\n",
       "        display_loaded();\n",
       "      }} else if (Date.now() < root._bokeh_timeout) {\n",
       "      setTimeout(run_inline_js, 100);\n",
       "    } else if (!root._bokeh_failed_load) {\n",
       "      console.log(\"Bokeh: BokehJS failed to load within specified timeout.\");\n",
       "      root._bokeh_failed_load = true;\n",
       "    } else if (force !== true) {\n",
       "      var cell = $(document.getElementById(\"1001\")).parents('.cell').data().cell;\n",
       "      cell.output_area.append_execute_result(NB_LOAD_WARNING)\n",
       "    }\n",
       "\n",
       "  }\n",
       "\n",
       "  if (root._bokeh_is_loading === 0) {\n",
       "    console.debug(\"Bokeh: BokehJS loaded, going straight to plotting\");\n",
       "    run_inline_js();\n",
       "  } else {\n",
       "    load_libs(css_urls, js_urls, function() {\n",
       "      console.debug(\"Bokeh: BokehJS plotting callback run at\", now());\n",
       "      run_inline_js();\n",
       "    });\n",
       "  }\n",
       "}(window));"
      ],
      "application/vnd.bokehjs_load.v0+json": "\n(function(root) {\n  function now() {\n    return new Date();\n  }\n\n  var force = true;\n\n  if (typeof root._bokeh_onload_callbacks === \"undefined\" || force === true) {\n    root._bokeh_onload_callbacks = [];\n    root._bokeh_is_loading = undefined;\n  }\n\n  \n\n  \n  if (typeof (root._bokeh_timeout) === \"undefined\" || force === true) {\n    root._bokeh_timeout = Date.now() + 5000;\n    root._bokeh_failed_load = false;\n  }\n\n  var NB_LOAD_WARNING = {'data': {'text/html':\n     \"<div style='background-color: #fdd'>\\n\"+\n     \"<p>\\n\"+\n     \"BokehJS does not appear to have successfully loaded. If loading BokehJS from CDN, this \\n\"+\n     \"may be due to a slow or bad network connection. Possible fixes:\\n\"+\n     \"</p>\\n\"+\n     \"<ul>\\n\"+\n     \"<li>re-rerun `output_notebook()` to attempt to load from CDN again, or</li>\\n\"+\n     \"<li>use INLINE resources instead, as so:</li>\\n\"+\n     \"</ul>\\n\"+\n     \"<code>\\n\"+\n     \"from bokeh.resources import INLINE\\n\"+\n     \"output_notebook(resources=INLINE)\\n\"+\n     \"</code>\\n\"+\n     \"</div>\"}};\n\n  function display_loaded() {\n    var el = document.getElementById(\"1001\");\n    if (el != null) {\n      el.textContent = \"BokehJS is loading...\";\n    }\n    if (root.Bokeh !== undefined) {\n      if (el != null) {\n        el.textContent = \"BokehJS \" + root.Bokeh.version + \" successfully loaded.\";\n      }\n    } else if (Date.now() < root._bokeh_timeout) {\n      setTimeout(display_loaded, 100)\n    }\n  }\n\n\n  function run_callbacks() {\n    try {\n      root._bokeh_onload_callbacks.forEach(function(callback) {\n        if (callback != null)\n          callback();\n      });\n    } finally {\n      delete root._bokeh_onload_callbacks\n    }\n    console.debug(\"Bokeh: all callbacks have finished\");\n  }\n\n  function load_libs(css_urls, js_urls, callback) {\n    if (css_urls == null) css_urls = [];\n    if (js_urls == null) js_urls = [];\n\n    root._bokeh_onload_callbacks.push(callback);\n    if (root._bokeh_is_loading > 0) {\n      console.debug(\"Bokeh: BokehJS is being loaded, scheduling callback at\", now());\n      return null;\n    }\n    if (js_urls == null || js_urls.length === 0) {\n      run_callbacks();\n      return null;\n    }\n    console.debug(\"Bokeh: BokehJS not loaded, scheduling load and callback at\", now());\n    root._bokeh_is_loading = css_urls.length + js_urls.length;\n\n    function on_load() {\n      root._bokeh_is_loading--;\n      if (root._bokeh_is_loading === 0) {\n        console.debug(\"Bokeh: all BokehJS libraries/stylesheets loaded\");\n        run_callbacks()\n      }\n    }\n\n    function on_error() {\n      console.error(\"failed to load \" + url);\n    }\n\n    for (var i = 0; i < css_urls.length; i++) {\n      var url = css_urls[i];\n      const element = document.createElement(\"link\");\n      element.onload = on_load;\n      element.onerror = on_error;\n      element.rel = \"stylesheet\";\n      element.type = \"text/css\";\n      element.href = url;\n      console.debug(\"Bokeh: injecting link tag for BokehJS stylesheet: \", url);\n      document.body.appendChild(element);\n    }\n\n    for (var i = 0; i < js_urls.length; i++) {\n      var url = js_urls[i];\n      var element = document.createElement('script');\n      element.onload = on_load;\n      element.onerror = on_error;\n      element.async = false;\n      element.src = url;\n      console.debug(\"Bokeh: injecting script tag for BokehJS library: \", url);\n      document.head.appendChild(element);\n    }\n  };var element = document.getElementById(\"1001\");\n  if (element == null) {\n    console.error(\"Bokeh: ERROR: autoload.js configured with elementid '1001' but no matching script tag was found. \")\n    return false;\n  }\n\n  function inject_raw_css(css) {\n    const element = document.createElement(\"style\");\n    element.appendChild(document.createTextNode(css));\n    document.body.appendChild(element);\n  }\n\n  var js_urls = [\"https://cdn.pydata.org/bokeh/release/bokeh-1.2.0.min.js\", \"https://cdn.pydata.org/bokeh/release/bokeh-widgets-1.2.0.min.js\", \"https://cdn.pydata.org/bokeh/release/bokeh-tables-1.2.0.min.js\", \"https://cdn.pydata.org/bokeh/release/bokeh-gl-1.2.0.min.js\"];\n  var css_urls = [\"https://cdn.pydata.org/bokeh/release/bokeh-1.2.0.min.css\", \"https://cdn.pydata.org/bokeh/release/bokeh-widgets-1.2.0.min.css\", \"https://cdn.pydata.org/bokeh/release/bokeh-tables-1.2.0.min.css\"];\n\n  var inline_js = [\n    function(Bokeh) {\n      Bokeh.set_log_level(\"info\");\n    },\n    \n    function(Bokeh) {\n      \n    },\n    function(Bokeh) {} // ensure no trailing comma for IE\n  ];\n\n  function run_inline_js() {\n    \n    if ((root.Bokeh !== undefined) || (force === true)) {\n      for (var i = 0; i < inline_js.length; i++) {\n        inline_js[i].call(root, root.Bokeh);\n      }if (force === true) {\n        display_loaded();\n      }} else if (Date.now() < root._bokeh_timeout) {\n      setTimeout(run_inline_js, 100);\n    } else if (!root._bokeh_failed_load) {\n      console.log(\"Bokeh: BokehJS failed to load within specified timeout.\");\n      root._bokeh_failed_load = true;\n    } else if (force !== true) {\n      var cell = $(document.getElementById(\"1001\")).parents('.cell').data().cell;\n      cell.output_area.append_execute_result(NB_LOAD_WARNING)\n    }\n\n  }\n\n  if (root._bokeh_is_loading === 0) {\n    console.debug(\"Bokeh: BokehJS loaded, going straight to plotting\");\n    run_inline_js();\n  } else {\n    load_libs(css_urls, js_urls, function() {\n      console.debug(\"Bokeh: BokehJS plotting callback run at\", now());\n      run_inline_js();\n    });\n  }\n}(window));"
     },
     "metadata": {},
     "output_type": "display_data"
    }
   ],
   "source": [
    "import os\n",
    "import hail as hl\n",
    "import pyspark\n",
    "import bokeh\n",
    "import logging\n",
    "import random\n",
    "import pandas as pd\n",
    "import numpy as np\n",
    "from scipy import stats\n",
    "import pickle \n",
    "from matplotlib import pyplot as plt\n",
    "from typing import Any, Counter, List, Optional, Tuple, Union,Dict,Set\n",
    "from hail.plot import show, output_notebook\n",
    "from bokeh.palettes import d3  # pylint: disable=no-name-in-module\n",
    "from bokeh.models import Plot, Row, Span, NumeralTickFormatter, LabelSet\n",
    "from gnomad.utils.plotting import *\n",
    "from typing import Set, Tuple\n",
    "\n",
    "tmp_dir = \"hdfs://spark-master:9820/\"\n",
    "temp_dir = \"file:///home/ubuntu/data/tmp\"\n",
    "plot_dir = \"/home/ubuntu/data/tmp\"\n",
    "\n",
    "sc = pyspark.SparkContext()\n",
    "hadoop_config = sc._jsc.hadoopConfiguration()\n",
    "hadoop_config.set(\"fs.s3a.access.key\", \"8YY584J59H7Q6AVKHSU8\")\n",
    "hadoop_config.set(\"fs.s3a.secret.key\", \"P8vePa7JUvxKXX2me9ti1cGujgYWMoimAwx4mMlM\")\n",
    "hadoop_config.set(\"fs.gs.impl\", \"com.google.cloud.hadoop.fs.gcs.GoogleHadoopFileSystem\")\n",
    "hadoop_config.set(\"fs.AbstractFileSystem.gs.impl\", \"com.google.cloud.hadoop.fs.gcs.GoogleHadoopFS\")\n",
    "hl.init(sc=sc, tmp_dir=tmp_dir, default_reference='GRCh38')\n",
    "output_notebook()\n",
    "logging.basicConfig(format=\"%(levelname)s (%(name)s %(lineno)s): %(message)s\")\n",
    "logger = logging.getLogger(__name__)\n",
    "logger.setLevel(logging.INFO)"
   ]
  },
  {
   "cell_type": "code",
   "execution_count": 2,
   "metadata": {},
   "outputs": [],
   "source": [
    "ht = hl.read_table(\n",
    "        f'{temp_dir}/ddd-elgh-ukbb/variant_qc/Sanger_table_for_RF_by_variant_type.ht')"
   ]
  },
  {
   "cell_type": "code",
   "execution_count": 3,
   "metadata": {},
   "outputs": [
    {
     "name": "stdout",
     "output_type": "stream",
     "text": [
      "----------------------------------------\n",
      "Global fields:\n",
      "    'feature_medians': dict<tuple (\n",
      "        str\n",
      "    ), struct {\n",
      "        a_index: int32, \n",
      "        n_alt_alleles: int32, \n",
      "        QD: float64, \n",
      "        MQRankSum: float64, \n",
      "        SOR: float64, \n",
      "        ReadPosRankSum: float64, \n",
      "        FS: float64, \n",
      "        DP: int32\n",
      "    }> \n",
      "    'variants_by_strata': dict<tuple (\n",
      "        str\n",
      "    ), int64> \n",
      "----------------------------------------\n",
      "Row fields:\n",
      "    'locus': locus<GRCh38> \n",
      "    'alleles': array<str> \n",
      "    'a_index': int32 \n",
      "    'was_split': bool \n",
      "    'InbreedingCoeff': float32 \n",
      "    'variant_type': str \n",
      "    'allele_type': str \n",
      "    'n_alt_alleles': int32 \n",
      "    'was_mixed': bool \n",
      "    'has_star': bool \n",
      "    'QD': float64 \n",
      "    'MQRankSum': float64 \n",
      "    'SOR': float64 \n",
      "    'ReadPosRankSum': float64 \n",
      "    'FS': float64 \n",
      "    'DP': int32 \n",
      "    'hapmap': bool \n",
      "    'omni': bool \n",
      "    'mills': bool \n",
      "    'kgp_phase1_hc': bool \n",
      "    'transmitted_singleton': bool \n",
      "    'fail_hard_filters': bool \n",
      "    'ac_raw': int64 \n",
      "    'feature_imputed': struct {\n",
      "        a_index: bool, \n",
      "        n_alt_alleles: bool, \n",
      "        QD: bool, \n",
      "        MQRankSum: bool, \n",
      "        SOR: bool, \n",
      "        ReadPosRankSum: bool, \n",
      "        FS: bool, \n",
      "        DP: bool\n",
      "    } \n",
      "----------------------------------------\n",
      "Key: ['locus', 'alleles']\n",
      "----------------------------------------\n"
     ]
    }
   ],
   "source": [
    "ht.describe()"
   ]
  },
  {
   "cell_type": "code",
   "execution_count": 17,
   "metadata": {},
   "outputs": [],
   "source": [
    "fp_expr = ht.fail_hard_filters\n",
    "tp_expr = ht.omni | ht.mills | ht.kgp_phase1_hc | ht.hapmap"
   ]
  },
  {
   "cell_type": "code",
   "execution_count": null,
   "metadata": {},
   "outputs": [],
   "source": []
  },
  {
   "cell_type": "code",
   "execution_count": 5,
   "metadata": {},
   "outputs": [
    {
     "data": {
      "text/html": [
       "<p>13651809 records.</p><b>fail_hard_filters</b> (<i>bool</i>):<ul><table><tbody><tr><td>Non-missing</td><td>13649567 (99.98%)</td></tr><tr><td>Missing</td><td>2242 (0.02%)</td></tr><tr><td>Counts</td><td>{False: 13036114, True: 613453}</td></tr></tbody></table></ul>"
      ],
      "text/plain": [
       "\n",
       "13651809 records.\n",
       "\n",
       "- fail_hard_filters (bool):\n",
       "  Non-missing: 13649567 (99.98%)\n",
       "      Missing: 2242 (0.02%)\n",
       "       Counts: {False: 13036114, True: 613453}"
      ]
     },
     "metadata": {},
     "output_type": "display_data"
    }
   ],
   "source": [
    "fp_expr.summarize()"
   ]
  },
  {
   "cell_type": "code",
   "execution_count": 18,
   "metadata": {},
   "outputs": [
    {
     "data": {
      "text/html": [
       "<p>13651809 records.</p><b>&lt;expr&gt;</b> (<i>bool</i>):<ul><table><tbody><tr><td>Non-missing</td><td>666248 (4.88%)</td></tr><tr><td>Missing</td><td>12985561 (95.12%)</td></tr><tr><td>Counts</td><td>{True: 666248}</td></tr></tbody></table></ul>"
      ],
      "text/plain": [
       "\n",
       "13651809 records.\n",
       "\n",
       "- <expr> (bool):\n",
       "  Non-missing: 666248 (4.88%)\n",
       "      Missing: 12985561 (95.12%)\n",
       "       Counts: {True: 666248}"
      ]
     },
     "metadata": {},
     "output_type": "display_data"
    }
   ],
   "source": [
    "tp_expr.summarize()"
   ]
  },
  {
   "cell_type": "code",
   "execution_count": 7,
   "metadata": {},
   "outputs": [],
   "source": [
    "truth_data_ht = hl.read_table(\n",
    "        f'{temp_dir}/ddd-elgh-ukbb/variant_qc/truthset_table.ht')"
   ]
  },
  {
   "cell_type": "code",
   "execution_count": 9,
   "metadata": {},
   "outputs": [
    {
     "data": {
      "text/html": [
       "<p>30744091 records.</p><ul><li><b>locus</b> (<i>locus&lt;GRCh38&gt;</i>):<ul><table><tbody><tr><td>Non-missing</td><td>30744091 (100.00%)</td></tr><tr><td>Missing</td><td>0</td></tr><tr><td>Contig Counts</td><td>{&#x27;chr11&#x27;: 1466650, &#x27;chr5&#x27;: 1981829, &#x27;chr22&#x27;: 364386, &#x27;chr7_KI270803v1_alt&#x27;: 2026, &#x27;chr17_KI270862v1_alt&#x27;: 8, &#x27;chr8&#x27;: 1708744, &#x27;chr19&#x27;: 554142, &#x27;chrY&#x27;: 2505, &#x27;chr1&#x27;: 2333219, &#x27;chr15&#x27;: 869740, &#x27;chr12&#x27;: 1424363, &#x27;chr22_KI270928v1_alt&#x27;: 1, &#x27;chr18&#x27;: 865799, &#x27;chr8_KI270811v1_alt&#x27;: 1, &#x27;chr20&#x27;: 709286, &#x27;chr1_KI270706v1_random&#x27;: 54, &#x27;chr15_KI270850v1_alt&#x27;: 1, &#x27;chr8_KI270821v1_alt&#x27;: 749, &#x27;chr2&#x27;: 2584084, &#x27;chr17_KI270857v1_alt&#x27;: 57, &#x27;chr13&#x27;: 1095602, &#x27;chr14_KI270726v1_random&#x27;: 1, &#x27;chr14_KI270846v1_alt&#x27;: 52, &#x27;chr2_GL383522v1_alt&#x27;: 1, &#x27;chr7&#x27;: 1698313, &#x27;chr22_KI270875v1_alt&#x27;: 1, &#x27;chr14&#x27;: 967788, &#x27;chr1_KI270765v1_alt&#x27;: 1, &#x27;chr3&#x27;: 2171623, &#x27;chr17_KI270909v1_alt&#x27;: 13, &#x27;chr22_KI270879v1_alt&#x27;: 264, &#x27;chr17&#x27;: 767196, &#x27;chr14_GL000009v2_random&#x27;: 86, &#x27;chr1_KI270766v1_alt&#x27;: 12, &#x27;chr4&#x27;: 2141421, &#x27;chr2_KI270894v1_alt&#x27;: 69, &#x27;chr6&#x27;: 1906190, &#x27;chr9&#x27;: 1277809, &#x27;chr19_KI270938v1_alt&#x27;: 90, &#x27;chrX&#x27;: 1068680, &#x27;chr6_KI270801v1_alt&#x27;: 1, &#x27;chr4_GL000008v2_random&#x27;: 75, &#x27;chr10&#x27;: 1471126, &#x27;chr21&#x27;: 401600, &#x27;chr16&#x27;: 908411, &#x27;chrUn_KI270742v1&#x27;: 22}</td></tr></tbody></table></ul></li><li><b>alleles</b> (<i>array&lt;str&gt;</i>):<ul><table><tbody><tr><td>Non-missing</td><td>30744091 (100.00%)</td></tr><tr><td>Missing</td><td>0</td></tr><tr><td>Min Size</td><td>1</td></tr><tr><td>Max Size</td><td>15</td></tr><tr><td>Mean Size</td><td>1.99</td></tr></tbody></table><li><b>alleles[&lt;elements&gt;]</b> (<i>str</i>):<ul><table><tbody><tr><td>Non-missing</td><td>61167575 (100.00%)</td></tr><tr><td>Missing</td><td>0</td></tr><tr><td>Min Size</td><td>1</td></tr><tr><td>Max Size</td><td>394</td></tr><tr><td>Mean Size</td><td>1.07</td></tr><tr><td>Sample Values</td><td>[&#x27;T&#x27;, &#x27;A&#x27;, &#x27;C&#x27;, &#x27;CTATGG&#x27;, &#x27;C&#x27;]</td></tr></tbody></table></ul></li></ul></li><li><b>hapmap</b> (<i>bool</i>):<ul><table><tbody><tr><td>Non-missing</td><td>4159721 (13.53%)</td></tr><tr><td>Missing</td><td>26584370 (86.47%)</td></tr><tr><td>Counts</td><td>{True: 4159721}</td></tr></tbody></table></ul></li><li><b>omni</b> (<i>bool</i>):<ul><table><tbody><tr><td>Non-missing</td><td>2442903 (7.95%)</td></tr><tr><td>Missing</td><td>28301188 (92.05%)</td></tr><tr><td>Counts</td><td>{True: 2442903}</td></tr></tbody></table></ul></li><li><b>kgp_phase1_hc</b> (<i>bool</i>):<ul><table><tbody><tr><td>Non-missing</td><td>28574948 (92.94%)</td></tr><tr><td>Missing</td><td>2169143 (7.06%)</td></tr><tr><td>Counts</td><td>{True: 28574948}</td></tr></tbody></table></ul></li><li><b>mills</b> (<i>bool</i>):<ul><table><tbody><tr><td>Non-missing</td><td>1271815 (4.14%)</td></tr><tr><td>Missing</td><td>29472276 (95.86%)</td></tr><tr><td>Counts</td><td>{True: 1271815}</td></tr></tbody></table></ul></li></ul>"
      ],
      "text/plain": [
       "\n",
       "30744091 records.\n",
       "\n",
       "  - locus (locus<GRCh38>):\n",
       "      Non-missing: 30744091 (100.00%)\n",
       "          Missing: 0\n",
       "    Contig Counts: {'chr11': 1466650, 'chr5': 1981829, 'chr22': 364386, 'chr7_KI270803v1_alt': 2026, 'chr17_KI270862v1_alt': 8, 'chr8': 1708744, 'chr19': 554142, 'chrY': 2505, 'chr1': 2333219, 'chr15': 869740, 'chr12': 1424363, 'chr22_KI270928v1_alt': 1, 'chr18': 865799, 'chr8_KI270811v1_alt': 1, 'chr20': 709286, 'chr1_KI270706v1_random': 54, 'chr15_KI270850v1_alt': 1, 'chr8_KI270821v1_alt': 749, 'chr2': 2584084, 'chr17_KI270857v1_alt': 57, 'chr13': 1095602, 'chr14_KI270726v1_random': 1, 'chr14_KI270846v1_alt': 52, 'chr2_GL383522v1_alt': 1, 'chr7': 1698313, 'chr22_KI270875v1_alt': 1, 'chr14': 967788, 'chr1_KI270765v1_alt': 1, 'chr3': 2171623, 'chr17_KI270909v1_alt': 13, 'chr22_KI270879v1_alt': 264, 'chr17': 767196, 'chr14_GL000009v2_random': 86, 'chr1_KI270766v1_alt': 12, 'chr4': 2141421, 'chr2_KI270894v1_alt': 69, 'chr6': 1906190, 'chr9': 1277809, 'chr19_KI270938v1_alt': 90, 'chrX': 1068680, 'chr6_KI270801v1_alt': 1, 'chr4_GL000008v2_random': 75, 'chr10': 1471126, 'chr21': 401600, 'chr16': 908411, 'chrUn_KI270742v1': 22}\n",
       "\n",
       "  - alleles (array<str>):\n",
       "    Non-missing: 30744091 (100.00%)\n",
       "        Missing: 0\n",
       "       Min Size: 1\n",
       "       Max Size: 15\n",
       "      Mean Size: 1.99\n",
       "\n",
       "    - alleles[<elements>] (str):\n",
       "        Non-missing: 61167575 (100.00%)\n",
       "            Missing: 0\n",
       "           Min Size: 1\n",
       "           Max Size: 394\n",
       "          Mean Size: 1.07\n",
       "      Sample Values: ['T', 'A', 'C', 'CTATGG', 'C']\n",
       "\n",
       "  - hapmap (bool):\n",
       "    Non-missing: 4159721 (13.53%)\n",
       "        Missing: 26584370 (86.47%)\n",
       "         Counts: {True: 4159721}\n",
       "\n",
       "  - omni (bool):\n",
       "    Non-missing: 2442903 (7.95%)\n",
       "        Missing: 28301188 (92.05%)\n",
       "         Counts: {True: 2442903}\n",
       "\n",
       "  - kgp_phase1_hc (bool):\n",
       "    Non-missing: 28574948 (92.94%)\n",
       "        Missing: 2169143 (7.06%)\n",
       "         Counts: {True: 28574948}\n",
       "\n",
       "  - mills (bool):\n",
       "    Non-missing: 1271815 (4.14%)\n",
       "        Missing: 29472276 (95.86%)\n",
       "         Counts: {True: 1271815}"
      ]
     },
     "metadata": {},
     "output_type": "display_data"
    }
   ],
   "source": [
    "truth_data_ht.summarize()"
   ]
  },
  {
   "cell_type": "code",
   "execution_count": 5,
   "metadata": {},
   "outputs": [
    {
     "name": "stdout",
     "output_type": "stream",
     "text": [
      "[Interval(start=Locus(contig=chr20, position=1, reference_genome=GRCh38), end=Locus(contig=chr20, position=64444167, reference_genome=GRCh38), includes_start=True, includes_end=True)]\n"
     ]
    }
   ],
   "source": [
    "test_intervals=\"chr20\"\n",
    "if test_intervals:\n",
    "\n",
    "        if isinstance(test_intervals, str):\n",
    "            test_intervals = [test_intervals]\n",
    "        test_intervals = [\n",
    "            hl.parse_locus_interval(x, reference_genome=\"GRCh38\")\n",
    "            for x in test_intervals\n",
    "        ]\n",
    "        print(hl.eval(test_intervals))"
   ]
  },
  {
   "cell_type": "code",
   "execution_count": 10,
   "metadata": {},
   "outputs": [
    {
     "name": "stdout",
     "output_type": "stream",
     "text": [
      "test_expr\n"
     ]
    }
   ],
   "source": [
    "test_expr = hl.literal(test_intervals).any(\n",
    "        lambda interval: interval.contains(ht.locus))\n",
    "print(\"test_expr\")\n"
   ]
  },
  {
   "cell_type": "code",
   "execution_count": 14,
   "metadata": {},
   "outputs": [
    {
     "data": {
      "text/html": [
       "<p>13651809 records.</p><b>locus</b> (<i>locus&lt;GRCh38&gt;</i>):<ul><table><tbody><tr><td>Non-missing</td><td>13651809 (100.00%)</td></tr><tr><td>Missing</td><td>0</td></tr><tr><td>Contig Counts</td><td>{&#x27;chr5&#x27;: 1454781, &#x27;chr8&#x27;: 1384, &#x27;chr19&#x27;: 1485, &#x27;chr1&#x27;: 2997581, &#x27;chr20&#x27;: 785942, &#x27;chr2&#x27;: 2274809, &#x27;chr7&#x27;: 1562341, &#x27;chr3&#x27;: 1793400, &#x27;chr4&#x27;: 1303848, &#x27;chr6&#x27;: 1476238}</td></tr></tbody></table></ul>"
      ],
      "text/plain": [
       "\n",
       "13651809 records.\n",
       "\n",
       "- locus (locus<GRCh38>):\n",
       "    Non-missing: 13651809 (100.00%)\n",
       "        Missing: 0\n",
       "  Contig Counts: {'chr5': 1454781, 'chr8': 1384, 'chr19': 1485, 'chr1': 2997581, 'chr20': 785942, 'chr2': 2274809, 'chr7': 1562341, 'chr3': 1793400, 'chr4': 1303848, 'chr6': 1476238}"
      ]
     },
     "metadata": {},
     "output_type": "display_data"
    }
   ],
   "source": [
    "ht.locus.summarize()"
   ]
  },
  {
   "cell_type": "code",
   "execution_count": 13,
   "metadata": {},
   "outputs": [
    {
     "ename": "ExpressionException",
     "evalue": "'literal' can only accept scalar or global expression arguments, found indices {'row'}",
     "output_type": "error",
     "traceback": [
      "\u001b[0;31m---------------------------------------------------------------------------\u001b[0m",
      "\u001b[0;31mExpressionException\u001b[0m                       Traceback (most recent call last)",
      "\u001b[0;32m<ipython-input-13-9f5087cee934>\u001b[0m in \u001b[0;36m<module>\u001b[0;34m\u001b[0m\n\u001b[0;32m----> 1\u001b[0;31m \u001b[0mhl\u001b[0m\u001b[0;34m.\u001b[0m\u001b[0mliteral\u001b[0m\u001b[0;34m(\u001b[0m\u001b[0mtest_expr\u001b[0m\u001b[0;34m)\u001b[0m\u001b[0;34m\u001b[0m\u001b[0;34m\u001b[0m\u001b[0m\n\u001b[0m",
      "\u001b[0;32m<decorator-gen-739>\u001b[0m in \u001b[0;36mliteral\u001b[0;34m(x, dtype)\u001b[0m\n",
      "\u001b[0;32m~/venv/lib/python3.6/site-packages/hail/typecheck/check.py\u001b[0m in \u001b[0;36mwrapper\u001b[0;34m(__original_func, *args, **kwargs)\u001b[0m\n\u001b[1;32m    609\u001b[0m     \u001b[0;32mdef\u001b[0m \u001b[0mwrapper\u001b[0m\u001b[0;34m(\u001b[0m\u001b[0m__original_func\u001b[0m\u001b[0;34m,\u001b[0m \u001b[0;34m*\u001b[0m\u001b[0margs\u001b[0m\u001b[0;34m,\u001b[0m \u001b[0;34m**\u001b[0m\u001b[0mkwargs\u001b[0m\u001b[0;34m)\u001b[0m\u001b[0;34m:\u001b[0m\u001b[0;34m\u001b[0m\u001b[0;34m\u001b[0m\u001b[0m\n\u001b[1;32m    610\u001b[0m         \u001b[0margs_\u001b[0m\u001b[0;34m,\u001b[0m \u001b[0mkwargs_\u001b[0m \u001b[0;34m=\u001b[0m \u001b[0mcheck_all\u001b[0m\u001b[0;34m(\u001b[0m\u001b[0m__original_func\u001b[0m\u001b[0;34m,\u001b[0m \u001b[0margs\u001b[0m\u001b[0;34m,\u001b[0m \u001b[0mkwargs\u001b[0m\u001b[0;34m,\u001b[0m \u001b[0mcheckers\u001b[0m\u001b[0;34m,\u001b[0m \u001b[0mis_method\u001b[0m\u001b[0;34m=\u001b[0m\u001b[0mis_method\u001b[0m\u001b[0;34m)\u001b[0m\u001b[0;34m\u001b[0m\u001b[0;34m\u001b[0m\u001b[0m\n\u001b[0;32m--> 611\u001b[0;31m         \u001b[0;32mreturn\u001b[0m \u001b[0m__original_func\u001b[0m\u001b[0;34m(\u001b[0m\u001b[0;34m*\u001b[0m\u001b[0margs_\u001b[0m\u001b[0;34m,\u001b[0m \u001b[0;34m**\u001b[0m\u001b[0mkwargs_\u001b[0m\u001b[0;34m)\u001b[0m\u001b[0;34m\u001b[0m\u001b[0;34m\u001b[0m\u001b[0m\n\u001b[0m\u001b[1;32m    612\u001b[0m \u001b[0;34m\u001b[0m\u001b[0m\n\u001b[1;32m    613\u001b[0m     \u001b[0;32mreturn\u001b[0m \u001b[0mwrapper\u001b[0m\u001b[0;34m\u001b[0m\u001b[0;34m\u001b[0m\u001b[0m\n",
      "\u001b[0;32m~/venv/lib/python3.6/site-packages/hail/expr/functions.py\u001b[0m in \u001b[0;36mliteral\u001b[0;34m(x, dtype)\u001b[0m\n\u001b[1;32m    205\u001b[0m \u001b[0;34m\u001b[0m\u001b[0m\n\u001b[1;32m    206\u001b[0m     \u001b[0;32mtry\u001b[0m\u001b[0;34m:\u001b[0m\u001b[0;34m\u001b[0m\u001b[0;34m\u001b[0m\u001b[0m\n\u001b[0;32m--> 207\u001b[0;31m         \u001b[0mdtype\u001b[0m\u001b[0;34m.\u001b[0m\u001b[0m_traverse\u001b[0m\u001b[0;34m(\u001b[0m\u001b[0mx\u001b[0m\u001b[0;34m,\u001b[0m \u001b[0mtypecheck_expr\u001b[0m\u001b[0;34m)\u001b[0m\u001b[0;34m\u001b[0m\u001b[0;34m\u001b[0m\u001b[0m\n\u001b[0m\u001b[1;32m    208\u001b[0m     \u001b[0;32mexcept\u001b[0m \u001b[0mTypeError\u001b[0m \u001b[0;32mas\u001b[0m \u001b[0me\u001b[0m\u001b[0;34m:\u001b[0m\u001b[0;34m\u001b[0m\u001b[0;34m\u001b[0m\u001b[0m\n\u001b[1;32m    209\u001b[0m         raise TypeError(\"'literal': object did not match the passed type '{}'\"\n",
      "\u001b[0;32m~/venv/lib/python3.6/site-packages/hail/expr/types.py\u001b[0m in \u001b[0;36m_traverse\u001b[0;34m(self, obj, f)\u001b[0m\n\u001b[1;32m    270\u001b[0m             \u001b[0mthe\u001b[0m \u001b[0mfunction\u001b[0m \u001b[0mreturns\u001b[0m\u001b[0;31m \u001b[0m\u001b[0;31m`\u001b[0m\u001b[0;31m`\u001b[0m\u001b[0;32mTrue\u001b[0m\u001b[0;31m`\u001b[0m\u001b[0;31m`\u001b[0m\u001b[0;34m.\u001b[0m\u001b[0;34m\u001b[0m\u001b[0;34m\u001b[0m\u001b[0m\n\u001b[1;32m    271\u001b[0m         \"\"\"\n\u001b[0;32m--> 272\u001b[0;31m         \u001b[0mf\u001b[0m\u001b[0;34m(\u001b[0m\u001b[0mself\u001b[0m\u001b[0;34m,\u001b[0m \u001b[0mobj\u001b[0m\u001b[0;34m)\u001b[0m\u001b[0;34m\u001b[0m\u001b[0;34m\u001b[0m\u001b[0m\n\u001b[0m\u001b[1;32m    273\u001b[0m \u001b[0;34m\u001b[0m\u001b[0m\n\u001b[1;32m    274\u001b[0m     \u001b[0;34m@\u001b[0m\u001b[0mabc\u001b[0m\u001b[0;34m.\u001b[0m\u001b[0mabstractmethod\u001b[0m\u001b[0;34m\u001b[0m\u001b[0;34m\u001b[0m\u001b[0m\n",
      "\u001b[0;32m~/venv/lib/python3.6/site-packages/hail/expr/functions.py\u001b[0m in \u001b[0;36mtypecheck_expr\u001b[0;34m(t, x)\u001b[0m\n\u001b[1;32m    190\u001b[0m             \u001b[0;32melif\u001b[0m \u001b[0mx\u001b[0m\u001b[0;34m.\u001b[0m\u001b[0m_indices\u001b[0m\u001b[0;34m.\u001b[0m\u001b[0msource\u001b[0m \u001b[0;32mis\u001b[0m \u001b[0;32mnot\u001b[0m \u001b[0;32mNone\u001b[0m\u001b[0;34m:\u001b[0m\u001b[0;34m\u001b[0m\u001b[0;34m\u001b[0m\u001b[0m\n\u001b[1;32m    191\u001b[0m                 \u001b[0;32mif\u001b[0m \u001b[0mx\u001b[0m\u001b[0;34m.\u001b[0m\u001b[0m_indices\u001b[0m\u001b[0;34m.\u001b[0m\u001b[0maxes\u001b[0m\u001b[0;34m:\u001b[0m\u001b[0;34m\u001b[0m\u001b[0;34m\u001b[0m\u001b[0m\n\u001b[0;32m--> 192\u001b[0;31m                     raise ExpressionException(f\"'literal' can only accept scalar or global expression arguments,\"\n\u001b[0m\u001b[1;32m    193\u001b[0m                                               f\" found indices {x._indices.axes}\")\n\u001b[1;32m    194\u001b[0m             \u001b[0;32mreturn\u001b[0m \u001b[0;32mFalse\u001b[0m\u001b[0;34m\u001b[0m\u001b[0;34m\u001b[0m\u001b[0m\n",
      "\u001b[0;31mExpressionException\u001b[0m: 'literal' can only accept scalar or global expression arguments, found indices {'row'}"
     ]
    }
   ],
   "source": [
    "hl.literal(test_expr)"
   ]
  },
  {
   "cell_type": "code",
   "execution_count": 2,
   "metadata": {},
   "outputs": [],
   "source": [
    "trio_stats_table = hl.read_table(\n",
    "        f'{temp_dir}/ddd-elgh-ukbb/variant_qc/Sanger_cohorts_trios_stats.ht')"
   ]
  },
  {
   "cell_type": "code",
   "execution_count": 3,
   "metadata": {},
   "outputs": [
    {
     "name": "stdout",
     "output_type": "stream",
     "text": [
      "----------------------------------------\n",
      "Global fields:\n",
      "    None\n",
      "----------------------------------------\n",
      "Row fields:\n",
      "    'locus': locus<GRCh38> \n",
      "    'alleles': array<str> \n",
      "    'n_transmitted_raw': int64 \n",
      "    'n_untransmitted_raw': int64 \n",
      "    'n_transmitted_adj': int64 \n",
      "    'n_untransmitted_adj': int64 \n",
      "    'n_de_novos_raw': int64 \n",
      "    'n_de_novos_adj': int64 \n",
      "    'ac_parents_raw': int64 \n",
      "    'an_parents_raw': int64 \n",
      "    'ac_children_raw': int64 \n",
      "    'an_children_raw': int64 \n",
      "    'ac_parents_adj': int64 \n",
      "    'an_parents_adj': int64 \n",
      "    'ac_children_adj': int64 \n",
      "    'an_children_adj': int64 \n",
      "----------------------------------------\n",
      "Key: ['locus', 'alleles']\n",
      "----------------------------------------\n"
     ]
    }
   ],
   "source": [
    "trio_stats_table.describe()"
   ]
  },
  {
   "cell_type": "code",
   "execution_count": 5,
   "metadata": {},
   "outputs": [
    {
     "data": {
      "text/html": [
       "<p>6462038 records.</p><b>n_transmitted_raw</b> (<i>int64</i>):<ul><table><tbody><tr><td>Non-missing</td><td>6462038 (100.00%)</td></tr><tr><td>Missing</td><td>0</td></tr><tr><td>Minimum</td><td>0</td></tr><tr><td>Maximum</td><td>9840</td></tr><tr><td>Mean</td><td>16.11</td></tr><tr><td>Std Dev</td><td>219.51</td></tr></tbody></table></ul>"
      ],
      "text/plain": [
       "\n",
       "6462038 records.\n",
       "\n",
       "- n_transmitted_raw (int64):\n",
       "  Non-missing: 6462038 (100.00%)\n",
       "      Missing: 0\n",
       "      Minimum: 0\n",
       "      Maximum: 9840\n",
       "         Mean: 16.11\n",
       "      Std Dev: 219.51"
      ]
     },
     "metadata": {},
     "output_type": "display_data"
    }
   ],
   "source": [
    "trio_stats_table.n_transmitted_raw.summarize()"
   ]
  },
  {
   "cell_type": "code",
   "execution_count": 6,
   "metadata": {},
   "outputs": [
    {
     "data": {
      "text/html": [
       "<p>6462038 records.</p><b>n_transmitted_adj</b> (<i>int64</i>):<ul><table><tbody><tr><td>Non-missing</td><td>6462038 (100.00%)</td></tr><tr><td>Missing</td><td>0</td></tr><tr><td>Minimum</td><td>0</td></tr><tr><td>Maximum</td><td>9820</td></tr><tr><td>Mean</td><td>11.45</td></tr><tr><td>Std Dev</td><td>177.65</td></tr></tbody></table></ul>"
      ],
      "text/plain": [
       "\n",
       "6462038 records.\n",
       "\n",
       "- n_transmitted_adj (int64):\n",
       "  Non-missing: 6462038 (100.00%)\n",
       "      Missing: 0\n",
       "      Minimum: 0\n",
       "      Maximum: 9820\n",
       "         Mean: 11.45\n",
       "      Std Dev: 177.65"
      ]
     },
     "metadata": {},
     "output_type": "display_data"
    }
   ],
   "source": [
    "trio_stats_table.n_transmitted_adj.summarize()"
   ]
  },
  {
   "cell_type": "code",
   "execution_count": 7,
   "metadata": {},
   "outputs": [
    {
     "data": {
      "text/html": [
       "<p>6462038 records.</p><b>ac_children_raw</b> (<i>int64</i>):<ul><table><tbody><tr><td>Non-missing</td><td>6462038 (100.00%)</td></tr><tr><td>Missing</td><td>0</td></tr><tr><td>Minimum</td><td>0</td></tr><tr><td>Maximum</td><td>19682</td></tr><tr><td>Mean</td><td>44.38</td></tr><tr><td>Std Dev</td><td>634.22</td></tr></tbody></table></ul>"
      ],
      "text/plain": [
       "\n",
       "6462038 records.\n",
       "\n",
       "- ac_children_raw (int64):\n",
       "  Non-missing: 6462038 (100.00%)\n",
       "      Missing: 0\n",
       "      Minimum: 0\n",
       "      Maximum: 19682\n",
       "         Mean: 44.38\n",
       "      Std Dev: 634.22"
      ]
     },
     "metadata": {},
     "output_type": "display_data"
    }
   ],
   "source": [
    "trio_stats_table.ac_children_raw.summarize()"
   ]
  },
  {
   "cell_type": "code",
   "execution_count": 8,
   "metadata": {},
   "outputs": [
    {
     "data": {
      "text/html": [
       "<p>6462038 records.</p><b>ac_children_adj</b> (<i>int64</i>):<ul><table><tbody><tr><td>Non-missing</td><td>6462038 (100.00%)</td></tr><tr><td>Missing</td><td>0</td></tr><tr><td>Minimum</td><td>0</td></tr><tr><td>Maximum</td><td>19672</td></tr><tr><td>Mean</td><td>25.26</td></tr><tr><td>Std Dev</td><td>474.08</td></tr></tbody></table></ul>"
      ],
      "text/plain": [
       "\n",
       "6462038 records.\n",
       "\n",
       "- ac_children_adj (int64):\n",
       "  Non-missing: 6462038 (100.00%)\n",
       "      Missing: 0\n",
       "      Minimum: 0\n",
       "      Maximum: 19672\n",
       "         Mean: 25.26\n",
       "      Std Dev: 474.08"
      ]
     },
     "metadata": {},
     "output_type": "display_data"
    }
   ],
   "source": [
    "trio_stats_table.ac_children_adj.summarize()"
   ]
  },
  {
   "cell_type": "code",
   "execution_count": null,
   "metadata": {},
   "outputs": [],
   "source": []
  }
 ],
 "metadata": {
  "kernelspec": {
   "display_name": "Python 3",
   "language": "python",
   "name": "python3"
  },
  "language_info": {
   "codemirror_mode": {
    "name": "ipython",
    "version": 3
   },
   "file_extension": ".py",
   "mimetype": "text/x-python",
   "name": "python",
   "nbconvert_exporter": "python",
   "pygments_lexer": "ipython3",
   "version": "3.6.9"
  }
 },
 "nbformat": 4,
 "nbformat_minor": 4
}
